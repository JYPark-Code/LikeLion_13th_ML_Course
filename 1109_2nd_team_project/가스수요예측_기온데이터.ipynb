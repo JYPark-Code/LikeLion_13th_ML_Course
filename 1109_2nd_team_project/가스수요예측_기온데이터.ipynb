{
 "cells": [
  {
   "cell_type": "code",
   "execution_count": 1,
   "metadata": {
    "id": "thD4WOhpdBem"
   },
   "outputs": [],
   "source": [
    "from sklearn.datasets import load_breast_cancer\n",
    "from sklearn.ensemble import GradientBoostingRegressor\n",
    "import matplotlib.pyplot as plt\n",
    "%matplotlib inline\n",
    "from IPython.display import display, Image\n",
    "import matplotlib\n",
    "from matplotlib import font_manager, rc\n",
    "\n",
    "import platform\n",
    "from sklearn.model_selection import cross_val_score, train_test_split, KFold\n",
    "from sklearn.preprocessing import StandardScaler, RobustScaler\n",
    "from sklearn.metrics import mean_squared_error, make_scorer\n",
    "from sklearn.pipeline import make_pipeline\n",
    "import warnings"
   ]
  },
  {
   "cell_type": "code",
   "execution_count": 2,
   "metadata": {
    "id": "5y-Bb35qSTJS"
   },
   "outputs": [],
   "source": [
    "\n",
    "import pandas as pd\n",
    "tmp = []\n",
    "tmp = pd.DataFrame()\n",
    "gas = pd.read_csv( '한국가스공사_시간별 공급량_20181231.csv', encoding='cp949' )\n",
    "test = pd.read_csv('test.csv')\n",
    "sub = pd.read_csv('sample_submission.csv')\n",
    "\n",
    "for i in range(13,19,1):\n",
    "  i=str(i)+\".csv\"\n",
    "  for j in range(7):\n",
    "    tmp = pd.concat( [tmp , pd.read_csv( i, encoding='cp949')])\n",
    " "
   ]
  },
  {
   "cell_type": "code",
   "execution_count": 2,
   "metadata": {
    "id": "73LbrS7dcN-f"
   },
   "outputs": [],
   "source": []
  },
  {
   "cell_type": "code",
   "execution_count": 3,
   "metadata": {
    "colab": {
     "base_uri": "https://localhost:8080/",
     "height": 781
    },
    "id": "7Ex9w1WqcHb8",
    "outputId": "552dcfd2-e44f-48d2-fb01-fbd91d712a71"
   },
   "outputs": [
    {
     "data": {
      "text/html": [
       "<div>\n",
       "<style scoped>\n",
       "    .dataframe tbody tr th:only-of-type {\n",
       "        vertical-align: middle;\n",
       "    }\n",
       "\n",
       "    .dataframe tbody tr th {\n",
       "        vertical-align: top;\n",
       "    }\n",
       "\n",
       "    .dataframe thead th {\n",
       "        text-align: right;\n",
       "    }\n",
       "</style>\n",
       "<table border=\"1\" class=\"dataframe\">\n",
       "  <thead>\n",
       "    <tr style=\"text-align: right;\">\n",
       "      <th></th>\n",
       "      <th>지점</th>\n",
       "      <th>지점명</th>\n",
       "      <th>일시</th>\n",
       "      <th>기온(°C)</th>\n",
       "      <th>강수량(mm)</th>\n",
       "      <th>풍속(m/s)</th>\n",
       "      <th>습도(%)</th>\n",
       "      <th>일조(hr)</th>\n",
       "      <th>적설(cm)</th>\n",
       "      <th>지면온도(°C)</th>\n",
       "      <th>Unnamed: 0</th>\n",
       "    </tr>\n",
       "  </thead>\n",
       "  <tbody>\n",
       "    <tr>\n",
       "      <th>0</th>\n",
       "      <td>108</td>\n",
       "      <td>서울</td>\n",
       "      <td>2013-01-01 00:00</td>\n",
       "      <td>-8.3</td>\n",
       "      <td>NaN</td>\n",
       "      <td>3.6</td>\n",
       "      <td>56.0</td>\n",
       "      <td>NaN</td>\n",
       "      <td>6.4</td>\n",
       "      <td>-3.3</td>\n",
       "      <td>NaN</td>\n",
       "    </tr>\n",
       "    <tr>\n",
       "      <th>1</th>\n",
       "      <td>108</td>\n",
       "      <td>서울</td>\n",
       "      <td>2013-01-01 01:00</td>\n",
       "      <td>-8.5</td>\n",
       "      <td>NaN</td>\n",
       "      <td>4.0</td>\n",
       "      <td>57.0</td>\n",
       "      <td>NaN</td>\n",
       "      <td>6.4</td>\n",
       "      <td>-3.4</td>\n",
       "      <td>NaN</td>\n",
       "    </tr>\n",
       "    <tr>\n",
       "      <th>2</th>\n",
       "      <td>108</td>\n",
       "      <td>서울</td>\n",
       "      <td>2013-01-01 02:00</td>\n",
       "      <td>-8.4</td>\n",
       "      <td>NaN</td>\n",
       "      <td>4.0</td>\n",
       "      <td>60.0</td>\n",
       "      <td>NaN</td>\n",
       "      <td>6.4</td>\n",
       "      <td>-3.4</td>\n",
       "      <td>NaN</td>\n",
       "    </tr>\n",
       "    <tr>\n",
       "      <th>3</th>\n",
       "      <td>108</td>\n",
       "      <td>서울</td>\n",
       "      <td>2013-01-01 03:00</td>\n",
       "      <td>-8.1</td>\n",
       "      <td>NaN</td>\n",
       "      <td>3.4</td>\n",
       "      <td>58.0</td>\n",
       "      <td>NaN</td>\n",
       "      <td>6.4</td>\n",
       "      <td>-3.4</td>\n",
       "      <td>NaN</td>\n",
       "    </tr>\n",
       "    <tr>\n",
       "      <th>4</th>\n",
       "      <td>108</td>\n",
       "      <td>서울</td>\n",
       "      <td>2013-01-01 04:00</td>\n",
       "      <td>-8.2</td>\n",
       "      <td>NaN</td>\n",
       "      <td>3.8</td>\n",
       "      <td>58.0</td>\n",
       "      <td>NaN</td>\n",
       "      <td>6.4</td>\n",
       "      <td>-3.4</td>\n",
       "      <td>NaN</td>\n",
       "    </tr>\n",
       "    <tr>\n",
       "      <th>...</th>\n",
       "      <td>...</td>\n",
       "      <td>...</td>\n",
       "      <td>...</td>\n",
       "      <td>...</td>\n",
       "      <td>...</td>\n",
       "      <td>...</td>\n",
       "      <td>...</td>\n",
       "      <td>...</td>\n",
       "      <td>...</td>\n",
       "      <td>...</td>\n",
       "      <td>...</td>\n",
       "    </tr>\n",
       "    <tr>\n",
       "      <th>8755</th>\n",
       "      <td>108</td>\n",
       "      <td>서울</td>\n",
       "      <td>2018-12-31 19:00</td>\n",
       "      <td>-3.1</td>\n",
       "      <td>NaN</td>\n",
       "      <td>2.1</td>\n",
       "      <td>43.0</td>\n",
       "      <td>NaN</td>\n",
       "      <td>NaN</td>\n",
       "      <td>-2.2</td>\n",
       "      <td>NaN</td>\n",
       "    </tr>\n",
       "    <tr>\n",
       "      <th>8756</th>\n",
       "      <td>108</td>\n",
       "      <td>서울</td>\n",
       "      <td>2018-12-31 20:00</td>\n",
       "      <td>-3.7</td>\n",
       "      <td>NaN</td>\n",
       "      <td>0.8</td>\n",
       "      <td>39.0</td>\n",
       "      <td>NaN</td>\n",
       "      <td>NaN</td>\n",
       "      <td>-3.0</td>\n",
       "      <td>NaN</td>\n",
       "    </tr>\n",
       "    <tr>\n",
       "      <th>8757</th>\n",
       "      <td>108</td>\n",
       "      <td>서울</td>\n",
       "      <td>2018-12-31 21:00</td>\n",
       "      <td>-4.6</td>\n",
       "      <td>NaN</td>\n",
       "      <td>1.1</td>\n",
       "      <td>44.0</td>\n",
       "      <td>NaN</td>\n",
       "      <td>NaN</td>\n",
       "      <td>-4.1</td>\n",
       "      <td>NaN</td>\n",
       "    </tr>\n",
       "    <tr>\n",
       "      <th>8758</th>\n",
       "      <td>108</td>\n",
       "      <td>서울</td>\n",
       "      <td>2018-12-31 22:00</td>\n",
       "      <td>-5.4</td>\n",
       "      <td>NaN</td>\n",
       "      <td>1.3</td>\n",
       "      <td>46.0</td>\n",
       "      <td>NaN</td>\n",
       "      <td>NaN</td>\n",
       "      <td>-5.0</td>\n",
       "      <td>NaN</td>\n",
       "    </tr>\n",
       "    <tr>\n",
       "      <th>8759</th>\n",
       "      <td>108</td>\n",
       "      <td>서울</td>\n",
       "      <td>2018-12-31 23:00</td>\n",
       "      <td>-5.2</td>\n",
       "      <td>NaN</td>\n",
       "      <td>1.6</td>\n",
       "      <td>47.0</td>\n",
       "      <td>NaN</td>\n",
       "      <td>NaN</td>\n",
       "      <td>-5.1</td>\n",
       "      <td>NaN</td>\n",
       "    </tr>\n",
       "  </tbody>\n",
       "</table>\n",
       "<p>368088 rows × 11 columns</p>\n",
       "</div>"
      ],
      "text/plain": [
       "       지점 지점명                일시  기온(°C)  ...  일조(hr)  적설(cm)  지면온도(°C)  Unnamed: 0\n",
       "0     108  서울  2013-01-01 00:00    -8.3  ...     NaN     6.4      -3.3         NaN\n",
       "1     108  서울  2013-01-01 01:00    -8.5  ...     NaN     6.4      -3.4         NaN\n",
       "2     108  서울  2013-01-01 02:00    -8.4  ...     NaN     6.4      -3.4         NaN\n",
       "3     108  서울  2013-01-01 03:00    -8.1  ...     NaN     6.4      -3.4         NaN\n",
       "4     108  서울  2013-01-01 04:00    -8.2  ...     NaN     6.4      -3.4         NaN\n",
       "...   ...  ..               ...     ...  ...     ...     ...       ...         ...\n",
       "8755  108  서울  2018-12-31 19:00    -3.1  ...     NaN     NaN      -2.2         NaN\n",
       "8756  108  서울  2018-12-31 20:00    -3.7  ...     NaN     NaN      -3.0         NaN\n",
       "8757  108  서울  2018-12-31 21:00    -4.6  ...     NaN     NaN      -4.1         NaN\n",
       "8758  108  서울  2018-12-31 22:00    -5.4  ...     NaN     NaN      -5.0         NaN\n",
       "8759  108  서울  2018-12-31 23:00    -5.2  ...     NaN     NaN      -5.1         NaN\n",
       "\n",
       "[368088 rows x 11 columns]"
      ]
     },
     "execution_count": 3,
     "metadata": {},
     "output_type": "execute_result"
    }
   ],
   "source": [
    "tmp\n",
    "# tmp1 = pd.read_csv('17.csv', encoding='cp949')\n",
    "# tmp1['일시'] = pd.a = []\n",
    "# total_2017A_p = total_2017A.loc[ total_2017A['연월일시'].values not in a, :]to_datetime(tmp1['일시'])\n",
    "# tmp1.interpolate()"
   ]
  },
  {
   "cell_type": "code",
   "execution_count": 4,
   "metadata": {
    "colab": {
     "base_uri": "https://localhost:8080/"
    },
    "id": "OYgZBJWVZIDT",
    "outputId": "ea7424d7-f664-4a82-b20d-c62f35095d44"
   },
   "outputs": [
    {
     "data": {
      "text/plain": [
       "array(['A', 'B', 'C', 'D', 'E', 'G', 'H'], dtype=object)"
      ]
     },
     "execution_count": 4,
     "metadata": {},
     "output_type": "execute_result"
    }
   ],
   "source": [
    "gas['구분'].unique()"
   ]
  },
  {
   "cell_type": "code",
   "execution_count": 5,
   "metadata": {
    "colab": {
     "base_uri": "https://localhost:8080/",
     "height": 78
    },
    "id": "eanR9sBn3AhF",
    "outputId": "f8de74cc-dca0-471a-c134-ef82f5314e5b"
   },
   "outputs": [
    {
     "data": {
      "text/html": [
       "<div>\n",
       "<style scoped>\n",
       "    .dataframe tbody tr th:only-of-type {\n",
       "        vertical-align: middle;\n",
       "    }\n",
       "\n",
       "    .dataframe tbody tr th {\n",
       "        vertical-align: top;\n",
       "    }\n",
       "\n",
       "    .dataframe thead th {\n",
       "        text-align: right;\n",
       "    }\n",
       "</style>\n",
       "<table border=\"1\" class=\"dataframe\">\n",
       "  <thead>\n",
       "    <tr style=\"text-align: right;\">\n",
       "      <th></th>\n",
       "      <th>연월일</th>\n",
       "      <th>시간</th>\n",
       "      <th>구분</th>\n",
       "      <th>공급량</th>\n",
       "    </tr>\n",
       "  </thead>\n",
       "  <tbody>\n",
       "    <tr>\n",
       "      <th>194184</th>\n",
       "      <td>2016-03-01</td>\n",
       "      <td>1</td>\n",
       "      <td>B</td>\n",
       "      <td>1800.053</td>\n",
       "    </tr>\n",
       "  </tbody>\n",
       "</table>\n",
       "</div>"
      ],
      "text/plain": [
       "               연월일  시간 구분       공급량\n",
       "194184  2016-03-01   1  B  1800.053"
      ]
     },
     "execution_count": 5,
     "metadata": {},
     "output_type": "execute_result"
    }
   ],
   "source": [
    "gas.iloc[[(183960+(31+29)*24)+366*24]]"
   ]
  },
  {
   "cell_type": "code",
   "execution_count": 6,
   "metadata": {
    "colab": {
     "base_uri": "https://localhost:8080/",
     "height": 422
    },
    "id": "jS3ashTKiqmL",
    "outputId": "eec44959-58e8-494e-cbd1-3ade957c73df"
   },
   "outputs": [
    {
     "data": {
      "text/html": [
       "<div>\n",
       "<style scoped>\n",
       "    .dataframe tbody tr th:only-of-type {\n",
       "        vertical-align: middle;\n",
       "    }\n",
       "\n",
       "    .dataframe tbody tr th {\n",
       "        vertical-align: top;\n",
       "    }\n",
       "\n",
       "    .dataframe thead th {\n",
       "        text-align: right;\n",
       "    }\n",
       "</style>\n",
       "<table border=\"1\" class=\"dataframe\">\n",
       "  <thead>\n",
       "    <tr style=\"text-align: right;\">\n",
       "      <th></th>\n",
       "      <th>index</th>\n",
       "      <th>지점</th>\n",
       "      <th>지점명</th>\n",
       "      <th>일시</th>\n",
       "      <th>기온(°C)</th>\n",
       "      <th>강수량(mm)</th>\n",
       "      <th>풍속(m/s)</th>\n",
       "      <th>습도(%)</th>\n",
       "      <th>일조(hr)</th>\n",
       "      <th>적설(cm)</th>\n",
       "      <th>지면온도(°C)</th>\n",
       "      <th>Unnamed: 0</th>\n",
       "    </tr>\n",
       "  </thead>\n",
       "  <tbody>\n",
       "    <tr>\n",
       "      <th>368083</th>\n",
       "      <td>8755</td>\n",
       "      <td>108</td>\n",
       "      <td>서울</td>\n",
       "      <td>2018-12-31 19:00:00</td>\n",
       "      <td>-3.1</td>\n",
       "      <td>NaN</td>\n",
       "      <td>2.1</td>\n",
       "      <td>43.0</td>\n",
       "      <td>NaN</td>\n",
       "      <td>NaN</td>\n",
       "      <td>-2.2</td>\n",
       "      <td>NaN</td>\n",
       "    </tr>\n",
       "    <tr>\n",
       "      <th>368084</th>\n",
       "      <td>8756</td>\n",
       "      <td>108</td>\n",
       "      <td>서울</td>\n",
       "      <td>2018-12-31 20:00:00</td>\n",
       "      <td>-3.7</td>\n",
       "      <td>NaN</td>\n",
       "      <td>0.8</td>\n",
       "      <td>39.0</td>\n",
       "      <td>NaN</td>\n",
       "      <td>NaN</td>\n",
       "      <td>-3.0</td>\n",
       "      <td>NaN</td>\n",
       "    </tr>\n",
       "    <tr>\n",
       "      <th>368085</th>\n",
       "      <td>8757</td>\n",
       "      <td>108</td>\n",
       "      <td>서울</td>\n",
       "      <td>2018-12-31 21:00:00</td>\n",
       "      <td>-4.6</td>\n",
       "      <td>NaN</td>\n",
       "      <td>1.1</td>\n",
       "      <td>44.0</td>\n",
       "      <td>NaN</td>\n",
       "      <td>NaN</td>\n",
       "      <td>-4.1</td>\n",
       "      <td>NaN</td>\n",
       "    </tr>\n",
       "    <tr>\n",
       "      <th>368086</th>\n",
       "      <td>8758</td>\n",
       "      <td>108</td>\n",
       "      <td>서울</td>\n",
       "      <td>2018-12-31 22:00:00</td>\n",
       "      <td>-5.4</td>\n",
       "      <td>NaN</td>\n",
       "      <td>1.3</td>\n",
       "      <td>46.0</td>\n",
       "      <td>NaN</td>\n",
       "      <td>NaN</td>\n",
       "      <td>-5.0</td>\n",
       "      <td>NaN</td>\n",
       "    </tr>\n",
       "    <tr>\n",
       "      <th>368087</th>\n",
       "      <td>8759</td>\n",
       "      <td>108</td>\n",
       "      <td>서울</td>\n",
       "      <td>2018-12-31 23:00:00</td>\n",
       "      <td>-5.2</td>\n",
       "      <td>NaN</td>\n",
       "      <td>1.6</td>\n",
       "      <td>47.0</td>\n",
       "      <td>NaN</td>\n",
       "      <td>NaN</td>\n",
       "      <td>-5.1</td>\n",
       "      <td>NaN</td>\n",
       "    </tr>\n",
       "  </tbody>\n",
       "</table>\n",
       "</div>"
      ],
      "text/plain": [
       "        index   지점 지점명  ... 적설(cm)  지면온도(°C)  Unnamed: 0\n",
       "368083   8755  108  서울  ...    NaN      -2.2         NaN\n",
       "368084   8756  108  서울  ...    NaN      -3.0         NaN\n",
       "368085   8757  108  서울  ...    NaN      -4.1         NaN\n",
       "368086   8758  108  서울  ...    NaN      -5.0         NaN\n",
       "368087   8759  108  서울  ...    NaN      -5.1         NaN\n",
       "\n",
       "[5 rows x 12 columns]"
      ]
     },
     "execution_count": 6,
     "metadata": {},
     "output_type": "execute_result"
    }
   ],
   "source": [
    "\n",
    "gas['연월일'] = pd.to_datetime(gas['연월일'])\n",
    "tmp['일시'] = pd.to_datetime(tmp['일시'])\n",
    "tmp.reset_index(inplace=True)\n",
    "tmp.tail()\n"
   ]
  },
  {
   "cell_type": "code",
   "execution_count": 6,
   "metadata": {
    "id": "ShbtWMt3nENS"
   },
   "outputs": [],
   "source": []
  },
  {
   "cell_type": "code",
   "execution_count": 7,
   "metadata": {
    "colab": {
     "base_uri": "https://localhost:8080/",
     "height": 235
    },
    "id": "noBIgBLMnSc3",
    "outputId": "98038c6d-7bbb-4946-8d15-ea56483202d0"
   },
   "outputs": [
    {
     "data": {
      "text/html": [
       "<div>\n",
       "<style scoped>\n",
       "    .dataframe tbody tr th:only-of-type {\n",
       "        vertical-align: middle;\n",
       "    }\n",
       "\n",
       "    .dataframe tbody tr th {\n",
       "        vertical-align: top;\n",
       "    }\n",
       "\n",
       "    .dataframe thead th {\n",
       "        text-align: right;\n",
       "    }\n",
       "</style>\n",
       "<table border=\"1\" class=\"dataframe\">\n",
       "  <thead>\n",
       "    <tr style=\"text-align: right;\">\n",
       "      <th></th>\n",
       "      <th>지점</th>\n",
       "      <th>지점명</th>\n",
       "      <th>기온(°C)</th>\n",
       "      <th>강수량(mm)</th>\n",
       "      <th>풍속(m/s)</th>\n",
       "      <th>습도(%)</th>\n",
       "      <th>일조(hr)</th>\n",
       "      <th>적설(cm)</th>\n",
       "      <th>지면온도(°C)</th>\n",
       "    </tr>\n",
       "  </thead>\n",
       "  <tbody>\n",
       "    <tr>\n",
       "      <th>368083</th>\n",
       "      <td>108</td>\n",
       "      <td>서울</td>\n",
       "      <td>-3.1</td>\n",
       "      <td>NaN</td>\n",
       "      <td>2.1</td>\n",
       "      <td>43.0</td>\n",
       "      <td>NaN</td>\n",
       "      <td>NaN</td>\n",
       "      <td>-2.2</td>\n",
       "    </tr>\n",
       "    <tr>\n",
       "      <th>368084</th>\n",
       "      <td>108</td>\n",
       "      <td>서울</td>\n",
       "      <td>-3.7</td>\n",
       "      <td>NaN</td>\n",
       "      <td>0.8</td>\n",
       "      <td>39.0</td>\n",
       "      <td>NaN</td>\n",
       "      <td>NaN</td>\n",
       "      <td>-3.0</td>\n",
       "    </tr>\n",
       "    <tr>\n",
       "      <th>368085</th>\n",
       "      <td>108</td>\n",
       "      <td>서울</td>\n",
       "      <td>-4.6</td>\n",
       "      <td>NaN</td>\n",
       "      <td>1.1</td>\n",
       "      <td>44.0</td>\n",
       "      <td>NaN</td>\n",
       "      <td>NaN</td>\n",
       "      <td>-4.1</td>\n",
       "    </tr>\n",
       "    <tr>\n",
       "      <th>368086</th>\n",
       "      <td>108</td>\n",
       "      <td>서울</td>\n",
       "      <td>-5.4</td>\n",
       "      <td>NaN</td>\n",
       "      <td>1.3</td>\n",
       "      <td>46.0</td>\n",
       "      <td>NaN</td>\n",
       "      <td>NaN</td>\n",
       "      <td>-5.0</td>\n",
       "    </tr>\n",
       "    <tr>\n",
       "      <th>368087</th>\n",
       "      <td>108</td>\n",
       "      <td>서울</td>\n",
       "      <td>-5.2</td>\n",
       "      <td>NaN</td>\n",
       "      <td>1.6</td>\n",
       "      <td>47.0</td>\n",
       "      <td>NaN</td>\n",
       "      <td>NaN</td>\n",
       "      <td>-5.1</td>\n",
       "    </tr>\n",
       "  </tbody>\n",
       "</table>\n",
       "</div>"
      ],
      "text/plain": [
       "         지점 지점명  기온(°C)  강수량(mm)  풍속(m/s)  습도(%)  일조(hr)  적설(cm)  지면온도(°C)\n",
       "368083  108  서울    -3.1      NaN      2.1   43.0     NaN     NaN      -2.2\n",
       "368084  108  서울    -3.7      NaN      0.8   39.0     NaN     NaN      -3.0\n",
       "368085  108  서울    -4.6      NaN      1.1   44.0     NaN     NaN      -4.1\n",
       "368086  108  서울    -5.4      NaN      1.3   46.0     NaN     NaN      -5.0\n",
       "368087  108  서울    -5.2      NaN      1.6   47.0     NaN     NaN      -5.1"
      ]
     },
     "execution_count": 7,
     "metadata": {},
     "output_type": "execute_result"
    }
   ],
   "source": [
    "\n",
    "tmp.shape[0]\n",
    "tmp.drop('index', axis = 1, inplace=True)\n",
    "tmp.drop('일시', axis = 1, inplace=True)\n",
    "tmp.drop('Unnamed: 0', axis = 1, inplace=True)\n",
    "\n",
    "tmp.tail()\n"
   ]
  },
  {
   "cell_type": "code",
   "execution_count": 8,
   "metadata": {
    "id": "8QAdUvjQUX6b"
   },
   "outputs": [],
   "source": [
    "gas=gas.join(tmp) # gas , tmp 합치기"
   ]
  },
  {
   "cell_type": "code",
   "execution_count": 9,
   "metadata": {
    "colab": {
     "base_uri": "https://localhost:8080/",
     "height": 338
    },
    "id": "IeqKB6MjVApp",
    "outputId": "580508d0-3e3c-4a82-fc50-a8634ee9cf15"
   },
   "outputs": [
    {
     "data": {
      "text/html": [
       "<div>\n",
       "<style scoped>\n",
       "    .dataframe tbody tr th:only-of-type {\n",
       "        vertical-align: middle;\n",
       "    }\n",
       "\n",
       "    .dataframe tbody tr th {\n",
       "        vertical-align: top;\n",
       "    }\n",
       "\n",
       "    .dataframe thead th {\n",
       "        text-align: right;\n",
       "    }\n",
       "</style>\n",
       "<table border=\"1\" class=\"dataframe\">\n",
       "  <thead>\n",
       "    <tr style=\"text-align: right;\">\n",
       "      <th></th>\n",
       "      <th>연월일</th>\n",
       "      <th>시간</th>\n",
       "      <th>구분</th>\n",
       "      <th>공급량</th>\n",
       "      <th>지점</th>\n",
       "      <th>지점명</th>\n",
       "      <th>기온(°C)</th>\n",
       "      <th>강수량(mm)</th>\n",
       "      <th>풍속(m/s)</th>\n",
       "      <th>습도(%)</th>\n",
       "      <th>일조(hr)</th>\n",
       "      <th>적설(cm)</th>\n",
       "      <th>지면온도(°C)</th>\n",
       "    </tr>\n",
       "  </thead>\n",
       "  <tbody>\n",
       "    <tr>\n",
       "      <th>368083</th>\n",
       "      <td>2018-12-31</td>\n",
       "      <td>20</td>\n",
       "      <td>H</td>\n",
       "      <td>681.033</td>\n",
       "      <td>108</td>\n",
       "      <td>서울</td>\n",
       "      <td>-3.1</td>\n",
       "      <td>0.0</td>\n",
       "      <td>2.1</td>\n",
       "      <td>43.0</td>\n",
       "      <td>0.0</td>\n",
       "      <td>0.0</td>\n",
       "      <td>-2.2</td>\n",
       "    </tr>\n",
       "    <tr>\n",
       "      <th>368084</th>\n",
       "      <td>2018-12-31</td>\n",
       "      <td>21</td>\n",
       "      <td>H</td>\n",
       "      <td>669.961</td>\n",
       "      <td>108</td>\n",
       "      <td>서울</td>\n",
       "      <td>-3.7</td>\n",
       "      <td>0.0</td>\n",
       "      <td>0.8</td>\n",
       "      <td>39.0</td>\n",
       "      <td>0.0</td>\n",
       "      <td>0.0</td>\n",
       "      <td>-3.0</td>\n",
       "    </tr>\n",
       "    <tr>\n",
       "      <th>368085</th>\n",
       "      <td>2018-12-31</td>\n",
       "      <td>22</td>\n",
       "      <td>H</td>\n",
       "      <td>657.941</td>\n",
       "      <td>108</td>\n",
       "      <td>서울</td>\n",
       "      <td>-4.6</td>\n",
       "      <td>0.0</td>\n",
       "      <td>1.1</td>\n",
       "      <td>44.0</td>\n",
       "      <td>0.0</td>\n",
       "      <td>0.0</td>\n",
       "      <td>-4.1</td>\n",
       "    </tr>\n",
       "    <tr>\n",
       "      <th>368086</th>\n",
       "      <td>2018-12-31</td>\n",
       "      <td>23</td>\n",
       "      <td>H</td>\n",
       "      <td>610.953</td>\n",
       "      <td>108</td>\n",
       "      <td>서울</td>\n",
       "      <td>-5.4</td>\n",
       "      <td>0.0</td>\n",
       "      <td>1.3</td>\n",
       "      <td>46.0</td>\n",
       "      <td>0.0</td>\n",
       "      <td>0.0</td>\n",
       "      <td>-5.0</td>\n",
       "    </tr>\n",
       "    <tr>\n",
       "      <th>368087</th>\n",
       "      <td>2018-12-31</td>\n",
       "      <td>24</td>\n",
       "      <td>H</td>\n",
       "      <td>560.896</td>\n",
       "      <td>108</td>\n",
       "      <td>서울</td>\n",
       "      <td>-5.2</td>\n",
       "      <td>0.0</td>\n",
       "      <td>1.6</td>\n",
       "      <td>47.0</td>\n",
       "      <td>0.0</td>\n",
       "      <td>0.0</td>\n",
       "      <td>-5.1</td>\n",
       "    </tr>\n",
       "  </tbody>\n",
       "</table>\n",
       "</div>"
      ],
      "text/plain": [
       "              연월일  시간 구분      공급량  ...  습도(%) 일조(hr)  적설(cm)  지면온도(°C)\n",
       "368083 2018-12-31  20  H  681.033  ...   43.0    0.0     0.0      -2.2\n",
       "368084 2018-12-31  21  H  669.961  ...   39.0    0.0     0.0      -3.0\n",
       "368085 2018-12-31  22  H  657.941  ...   44.0    0.0     0.0      -4.1\n",
       "368086 2018-12-31  23  H  610.953  ...   46.0    0.0     0.0      -5.0\n",
       "368087 2018-12-31  24  H  560.896  ...   47.0    0.0     0.0      -5.1\n",
       "\n",
       "[5 rows x 13 columns]"
      ]
     },
     "execution_count": 9,
     "metadata": {},
     "output_type": "execute_result"
    }
   ],
   "source": [
    "gas.fillna(0,inplace=True)\n",
    "gas.tail()"
   ]
  },
  {
   "cell_type": "code",
   "execution_count": 10,
   "metadata": {
    "id": "DwgDTeswva3A"
   },
   "outputs": [],
   "source": [
    "gas.drop('강수량(mm)',axis = 1,inplace=True)\n",
    "gas.drop('풍속(m/s)',axis = 1,inplace=True)\n",
    "gas.drop('습도(%)',axis = 1,inplace=True)\n",
    "gas.drop('일조(hr)',inplace=True,axis = 1)\n",
    "gas.drop('적설(cm)',inplace=True,axis = 1)\n",
    "gas.drop('지면온도(°C)',inplace=True,axis = 1)\n"
   ]
  },
  {
   "cell_type": "code",
   "execution_count": 11,
   "metadata": {
    "colab": {
     "base_uri": "https://localhost:8080/",
     "height": 202
    },
    "id": "BBMXxj5US48q",
    "outputId": "b92fd8f6-e453-4811-cfce-298084bbe284"
   },
   "outputs": [
    {
     "data": {
      "text/html": [
       "<div>\n",
       "<style scoped>\n",
       "    .dataframe tbody tr th:only-of-type {\n",
       "        vertical-align: middle;\n",
       "    }\n",
       "\n",
       "    .dataframe tbody tr th {\n",
       "        vertical-align: top;\n",
       "    }\n",
       "\n",
       "    .dataframe thead th {\n",
       "        text-align: right;\n",
       "    }\n",
       "</style>\n",
       "<table border=\"1\" class=\"dataframe\">\n",
       "  <thead>\n",
       "    <tr style=\"text-align: right;\">\n",
       "      <th></th>\n",
       "      <th>연월일</th>\n",
       "      <th>시간</th>\n",
       "      <th>구분</th>\n",
       "      <th>공급량</th>\n",
       "      <th>지점</th>\n",
       "      <th>지점명</th>\n",
       "      <th>기온(°C)</th>\n",
       "    </tr>\n",
       "  </thead>\n",
       "  <tbody>\n",
       "    <tr>\n",
       "      <th>0</th>\n",
       "      <td>2013-01-01</td>\n",
       "      <td>1</td>\n",
       "      <td>A</td>\n",
       "      <td>2497.129</td>\n",
       "      <td>108</td>\n",
       "      <td>서울</td>\n",
       "      <td>-8.3</td>\n",
       "    </tr>\n",
       "    <tr>\n",
       "      <th>1</th>\n",
       "      <td>2013-01-01</td>\n",
       "      <td>2</td>\n",
       "      <td>A</td>\n",
       "      <td>2363.265</td>\n",
       "      <td>108</td>\n",
       "      <td>서울</td>\n",
       "      <td>-8.5</td>\n",
       "    </tr>\n",
       "    <tr>\n",
       "      <th>2</th>\n",
       "      <td>2013-01-01</td>\n",
       "      <td>3</td>\n",
       "      <td>A</td>\n",
       "      <td>2258.505</td>\n",
       "      <td>108</td>\n",
       "      <td>서울</td>\n",
       "      <td>-8.4</td>\n",
       "    </tr>\n",
       "    <tr>\n",
       "      <th>3</th>\n",
       "      <td>2013-01-01</td>\n",
       "      <td>4</td>\n",
       "      <td>A</td>\n",
       "      <td>2243.969</td>\n",
       "      <td>108</td>\n",
       "      <td>서울</td>\n",
       "      <td>-8.1</td>\n",
       "    </tr>\n",
       "    <tr>\n",
       "      <th>4</th>\n",
       "      <td>2013-01-01</td>\n",
       "      <td>5</td>\n",
       "      <td>A</td>\n",
       "      <td>2344.105</td>\n",
       "      <td>108</td>\n",
       "      <td>서울</td>\n",
       "      <td>-8.2</td>\n",
       "    </tr>\n",
       "  </tbody>\n",
       "</table>\n",
       "</div>"
      ],
      "text/plain": [
       "         연월일  시간 구분       공급량   지점 지점명  기온(°C)\n",
       "0 2013-01-01   1  A  2497.129  108  서울    -8.3\n",
       "1 2013-01-01   2  A  2363.265  108  서울    -8.5\n",
       "2 2013-01-01   3  A  2258.505  108  서울    -8.4\n",
       "3 2013-01-01   4  A  2243.969  108  서울    -8.1\n",
       "4 2013-01-01   5  A  2344.105  108  서울    -8.2"
      ]
     },
     "execution_count": 11,
     "metadata": {},
     "output_type": "execute_result"
    }
   ],
   "source": [
    "gas.head()"
   ]
  },
  {
   "cell_type": "code",
   "execution_count": 11,
   "metadata": {
    "id": "y9wgoTecjA8V"
   },
   "outputs": [],
   "source": []
  },
  {
   "cell_type": "code",
   "execution_count": 12,
   "metadata": {
    "colab": {
     "base_uri": "https://localhost:8080/"
    },
    "id": "PBKVoG9ucUTc",
    "outputId": "c2f1d5f1-859d-4cee-ea2d-3dbfe0f01575"
   },
   "outputs": [
    {
     "data": {
      "text/plain": [
       "368088"
      ]
     },
     "execution_count": 12,
     "metadata": {},
     "output_type": "execute_result"
    }
   ],
   "source": [
    "gas.shape[0]"
   ]
  },
  {
   "cell_type": "code",
   "execution_count": 13,
   "metadata": {
    "colab": {
     "base_uri": "https://localhost:8080/"
    },
    "id": "kcY_TmOzchqJ",
    "outputId": "d9a75a81-acb2-48f2-f2b3-e6b8eb4da7b5"
   },
   "outputs": [
    {
     "data": {
      "text/plain": [
       "array(['A', 'B', 'C', 'D', 'E', 'G', 'H'], dtype=object)"
      ]
     },
     "execution_count": 13,
     "metadata": {},
     "output_type": "execute_result"
    }
   ],
   "source": [
    "gas['구분'].unique()"
   ]
  },
  {
   "cell_type": "code",
   "execution_count": 14,
   "metadata": {
    "colab": {
     "base_uri": "https://localhost:8080/"
    },
    "id": "BFqJeuKvl_ww",
    "outputId": "fb0a7b96-15a9-4a28-f8d9-cac799912cc3"
   },
   "outputs": [
    {
     "name": "stdout",
     "output_type": "stream",
     "text": [
      "<class 'pandas.core.frame.DataFrame'>\n",
      "RangeIndex: 368088 entries, 0 to 368087\n",
      "Data columns (total 7 columns):\n",
      " #   Column  Non-Null Count   Dtype         \n",
      "---  ------  --------------   -----         \n",
      " 0   연월일     368088 non-null  datetime64[ns]\n",
      " 1   시간      368088 non-null  int64         \n",
      " 2   구분      368088 non-null  object        \n",
      " 3   공급량     368088 non-null  float64       \n",
      " 4   지점      368088 non-null  int64         \n",
      " 5   지점명     368088 non-null  object        \n",
      " 6   기온(°C)  368088 non-null  float64       \n",
      "dtypes: datetime64[ns](1), float64(2), int64(2), object(2)\n",
      "memory usage: 19.7+ MB\n"
     ]
    }
   ],
   "source": [
    "gas.info()"
   ]
  },
  {
   "cell_type": "code",
   "execution_count": 15,
   "metadata": {
    "colab": {
     "base_uri": "https://localhost:8080/",
     "height": 202
    },
    "id": "4Pc805bDnVm2",
    "outputId": "22bf4ad3-520d-4363-d77e-deef5e205140"
   },
   "outputs": [
    {
     "data": {
      "text/html": [
       "<div>\n",
       "<style scoped>\n",
       "    .dataframe tbody tr th:only-of-type {\n",
       "        vertical-align: middle;\n",
       "    }\n",
       "\n",
       "    .dataframe tbody tr th {\n",
       "        vertical-align: top;\n",
       "    }\n",
       "\n",
       "    .dataframe thead th {\n",
       "        text-align: right;\n",
       "    }\n",
       "</style>\n",
       "<table border=\"1\" class=\"dataframe\">\n",
       "  <thead>\n",
       "    <tr style=\"text-align: right;\">\n",
       "      <th></th>\n",
       "      <th>연월일</th>\n",
       "      <th>시간</th>\n",
       "      <th>구분</th>\n",
       "      <th>공급량</th>\n",
       "      <th>지점</th>\n",
       "      <th>지점명</th>\n",
       "      <th>기온(°C)</th>\n",
       "    </tr>\n",
       "  </thead>\n",
       "  <tbody>\n",
       "    <tr>\n",
       "      <th>0</th>\n",
       "      <td>2013-01-01</td>\n",
       "      <td>1</td>\n",
       "      <td>A</td>\n",
       "      <td>2497.129</td>\n",
       "      <td>108</td>\n",
       "      <td>서울</td>\n",
       "      <td>-8.3</td>\n",
       "    </tr>\n",
       "    <tr>\n",
       "      <th>1</th>\n",
       "      <td>2013-01-01</td>\n",
       "      <td>2</td>\n",
       "      <td>A</td>\n",
       "      <td>2363.265</td>\n",
       "      <td>108</td>\n",
       "      <td>서울</td>\n",
       "      <td>-8.5</td>\n",
       "    </tr>\n",
       "    <tr>\n",
       "      <th>2</th>\n",
       "      <td>2013-01-01</td>\n",
       "      <td>3</td>\n",
       "      <td>A</td>\n",
       "      <td>2258.505</td>\n",
       "      <td>108</td>\n",
       "      <td>서울</td>\n",
       "      <td>-8.4</td>\n",
       "    </tr>\n",
       "    <tr>\n",
       "      <th>3</th>\n",
       "      <td>2013-01-01</td>\n",
       "      <td>4</td>\n",
       "      <td>A</td>\n",
       "      <td>2243.969</td>\n",
       "      <td>108</td>\n",
       "      <td>서울</td>\n",
       "      <td>-8.1</td>\n",
       "    </tr>\n",
       "    <tr>\n",
       "      <th>4</th>\n",
       "      <td>2013-01-01</td>\n",
       "      <td>5</td>\n",
       "      <td>A</td>\n",
       "      <td>2344.105</td>\n",
       "      <td>108</td>\n",
       "      <td>서울</td>\n",
       "      <td>-8.2</td>\n",
       "    </tr>\n",
       "  </tbody>\n",
       "</table>\n",
       "</div>"
      ],
      "text/plain": [
       "         연월일  시간 구분       공급량   지점 지점명  기온(°C)\n",
       "0 2013-01-01   1  A  2497.129  108  서울    -8.3\n",
       "1 2013-01-01   2  A  2363.265  108  서울    -8.5\n",
       "2 2013-01-01   3  A  2258.505  108  서울    -8.4\n",
       "3 2013-01-01   4  A  2243.969  108  서울    -8.1\n",
       "4 2013-01-01   5  A  2344.105  108  서울    -8.2"
      ]
     },
     "execution_count": 15,
     "metadata": {},
     "output_type": "execute_result"
    }
   ],
   "source": [
    "gas.head() #공급량 예측한 것을 온도 예측하는 데에 사용, 또 온도 예측한 것을 공급량 예측에 사용 -> 성능 향상이 없을 때 까지 계속 반복"
   ]
  },
  {
   "cell_type": "code",
   "execution_count": 16,
   "metadata": {
    "colab": {
     "base_uri": "https://localhost:8080/"
    },
    "id": "mDkoQ3mtmcqH",
    "outputId": "1fbac0a4-bfac-4177-a661-10f93b8ea298"
   },
   "outputs": [
    {
     "name": "stdout",
     "output_type": "stream",
     "text": [
      "<class 'pandas.core.frame.DataFrame'>\n",
      "RangeIndex: 368088 entries, 0 to 368087\n",
      "Data columns (total 11 columns):\n",
      " #   Column   Non-Null Count   Dtype         \n",
      "---  ------   --------------   -----         \n",
      " 0   연월일      368088 non-null  datetime64[ns]\n",
      " 1   시간       368088 non-null  int64         \n",
      " 2   구분       368088 non-null  object        \n",
      " 3   공급량      368088 non-null  float64       \n",
      " 4   지점       368088 non-null  int64         \n",
      " 5   지점명      368088 non-null  object        \n",
      " 6   기온(°C)   368088 non-null  float64       \n",
      " 7   Year     368088 non-null  int64         \n",
      " 8   Month    368088 non-null  int64         \n",
      " 9   Day      368088 non-null  int64         \n",
      " 10  weekday  368088 non-null  int64         \n",
      "dtypes: datetime64[ns](1), float64(2), int64(6), object(2)\n",
      "memory usage: 30.9+ MB\n"
     ]
    },
    {
     "data": {
      "text/plain": [
       "(         연월일  시간 구분       공급량   지점 지점명  기온(°C)  Year  Month  Day  weekday\n",
       " 0 2013-01-01   1  A  2497.129  108  서울    -8.3  2013      1    1        1\n",
       " 1 2013-01-01   2  A  2363.265  108  서울    -8.5  2013      1    1        1\n",
       " 2 2013-01-01   3  A  2258.505  108  서울    -8.4  2013      1    1        1\n",
       " 3 2013-01-01   4  A  2243.969  108  서울    -8.1  2013      1    1        1\n",
       " 4 2013-01-01   5  A  2344.105  108  서울    -8.2  2013      1    1        1,\n",
       " None)"
      ]
     },
     "execution_count": 16,
     "metadata": {},
     "output_type": "execute_result"
    }
   ],
   "source": [
    "\n",
    "gas['Year'] = gas['연월일'].dt.year\n",
    "gas['Month'] = gas['연월일'].dt.month\n",
    "gas['Day'] = gas['연월일'].dt.day\n",
    "gas['weekday'] = gas['연월일'].dt.weekday\n",
    "\n",
    "gas.head() , gas.info()\n"
   ]
  },
  {
   "cell_type": "code",
   "execution_count": 17,
   "metadata": {
    "id": "Z-ih1M7RJ1Kb"
   },
   "outputs": [],
   "source": [
    "# # GrLivArea / SalePirce간 scatter plot 확인\n",
    "# var = 'GrLivArea'\n",
    "# data = pd.concat([gas['SalePrice'], gas[var]], axis=1)\n",
    "# data.plot.scatter(x=var, y='gas', ylim=(0,800000));\n",
    "\n",
    "# data = pd.concat([gas['SalePrice'], train[var]], axis=1)\n",
    "# data.plot.scatter(x=var, y='SalePrice', ylim=(0,800000));"
   ]
  },
  {
   "cell_type": "code",
   "execution_count": 18,
   "metadata": {
    "colab": {
     "base_uri": "https://localhost:8080/"
    },
    "id": "hmOjnp9vBS7a",
    "outputId": "fb354cc4-144f-4a73-f68b-4edb8012e20e"
   },
   "outputs": [
    {
     "name": "stdout",
     "output_type": "stream",
     "text": [
      "<class 'pandas.core.frame.DataFrame'>\n",
      "RangeIndex: 368088 entries, 0 to 368087\n",
      "Data columns (total 11 columns):\n",
      " #   Column   Non-Null Count   Dtype         \n",
      "---  ------   --------------   -----         \n",
      " 0   연월일      368088 non-null  datetime64[ns]\n",
      " 1   시간       368088 non-null  int64         \n",
      " 2   구분       368088 non-null  object        \n",
      " 3   공급량      368088 non-null  float64       \n",
      " 4   지점       368088 non-null  int64         \n",
      " 5   지점명      368088 non-null  object        \n",
      " 6   기온(°C)   368088 non-null  float64       \n",
      " 7   Year     368088 non-null  int64         \n",
      " 8   Month    368088 non-null  int64         \n",
      " 9   Day      368088 non-null  int64         \n",
      " 10  weekday  368088 non-null  int64         \n",
      "dtypes: datetime64[ns](1), float64(2), int64(6), object(2)\n",
      "memory usage: 30.9+ MB\n"
     ]
    }
   ],
   "source": [
    "#-------------------------------------------------------------기온예측 \n",
    "import pandas as pd\n",
    "import numpy as np\n",
    "import matplotlib.pyplot as plt\n",
    "import lightgbm as lgb\n",
    "gas['공급량'] = np.log1p(gas['공급량']) #정규화\n",
    "gas.info()"
   ]
  },
  {
   "cell_type": "code",
   "execution_count": 19,
   "metadata": {
    "id": "MqSyhSoGaqmV"
   },
   "outputs": [],
   "source": [
    "d_map = {}\n",
    "for i, d in enumerate(gas['구분'].unique()):\n",
    "    d_map[d] = i\n",
    "gas['구분'] = gas['구분'].map(d_map)"
   ]
  },
  {
   "cell_type": "code",
   "execution_count": 20,
   "metadata": {
    "id": "aw_hBWkeI_zZ"
   },
   "outputs": [],
   "source": [
    "train_years = [2013,2014,2015,2016,2017]\n",
    "val_years = [2018]\n",
    "train = gas[gas['Year'].isin(train_years)]\n",
    "val = gas[gas['Year'].isin(val_years)]\n"
   ]
  },
  {
   "cell_type": "code",
   "execution_count": 21,
   "metadata": {
    "id": "POXunafKI_vU"
   },
   "outputs": [],
   "source": [
    "features = ['구분', 'Month', 'Day', 'weekday', '시간']\n",
    "train_x = train[features]\n",
    "train_y = train['기온(°C)']\n",
    "\n",
    "val_x = val[features]\n",
    "val_y = val['기온(°C)']"
   ]
  },
  {
   "cell_type": "code",
   "execution_count": 22,
   "metadata": {
    "colab": {
     "base_uri": "https://localhost:8080/"
    },
    "id": "6lHlQO3qI_hn",
    "outputId": "da645922-2ee8-41c6-ac1d-01ed1eda8d37"
   },
   "outputs": [
    {
     "name": "stdout",
     "output_type": "stream",
     "text": [
      "Training until validation scores don't improve for 10 rounds.\n",
      "[20]\tvalid_0's l1: 3.51847\n",
      "[40]\tvalid_0's l1: 3.13065\n",
      "[60]\tvalid_0's l1: 3.10134\n",
      "Early stopping, best iteration is:\n",
      "[58]\tvalid_0's l1: 3.0972\n"
     ]
    }
   ],
   "source": [
    "import pandas as pd\n",
    "import numpy as np\n",
    "import matplotlib.pyplot as plt\n",
    "import lightgbm as lgb\n",
    "d_train = lgb.Dataset(train_x, train_y)\n",
    "d_val = lgb.Dataset(val_x, val_y)\n",
    "\n",
    "params = {\n",
    "    'objective': 'regression',\n",
    "    'metric':'mae',\n",
    "    'seed':42\n",
    "}\n",
    "\n",
    "model = lgb.train(params, d_train, 500, d_val, verbose_eval=20, early_stopping_rounds=10)"
   ]
  },
  {
   "cell_type": "code",
   "execution_count": 22,
   "metadata": {
    "id": "Eh_mPaP_aqkF"
   },
   "outputs": [],
   "source": []
  },
  {
   "cell_type": "code",
   "execution_count": 23,
   "metadata": {
    "colab": {
     "base_uri": "https://localhost:8080/"
    },
    "id": "u2shResXGqir",
    "outputId": "13810948-dbc2-419e-c316-12511699984f"
   },
   "outputs": [
    {
     "name": "stdout",
     "output_type": "stream",
     "text": [
      "<class 'pandas.core.frame.DataFrame'>\n",
      "RangeIndex: 368088 entries, 0 to 368087\n",
      "Data columns (total 11 columns):\n",
      " #   Column   Non-Null Count   Dtype         \n",
      "---  ------   --------------   -----         \n",
      " 0   연월일      368088 non-null  datetime64[ns]\n",
      " 1   시간       368088 non-null  int64         \n",
      " 2   구분       368088 non-null  int64         \n",
      " 3   공급량      368088 non-null  float64       \n",
      " 4   지점       368088 non-null  int64         \n",
      " 5   지점명      368088 non-null  object        \n",
      " 6   기온(°C)   368088 non-null  float64       \n",
      " 7   Year     368088 non-null  int64         \n",
      " 8   Month    368088 non-null  int64         \n",
      " 9   Day      368088 non-null  int64         \n",
      " 10  weekday  368088 non-null  int64         \n",
      "dtypes: datetime64[ns](1), float64(2), int64(7), object(1)\n",
      "memory usage: 30.9+ MB\n"
     ]
    }
   ],
   "source": [
    "gas.info()"
   ]
  },
  {
   "cell_type": "code",
   "execution_count": 23,
   "metadata": {
    "id": "Lhr1u6zOBaIT"
   },
   "outputs": [],
   "source": [
    "\n"
   ]
  },
  {
   "cell_type": "code",
   "execution_count": 23,
   "metadata": {
    "id": "gUA7aXwjBzO4"
   },
   "outputs": [],
   "source": []
  },
  {
   "cell_type": "code",
   "execution_count": 23,
   "metadata": {
    "id": "93L40y2zE5N1"
   },
   "outputs": [],
   "source": []
  },
  {
   "cell_type": "code",
   "execution_count": 23,
   "metadata": {
    "id": "uNupSHp8Ek3X"
   },
   "outputs": [],
   "source": []
  },
  {
   "cell_type": "code",
   "execution_count": 23,
   "metadata": {
    "id": "VZ92MqS6t1ln"
   },
   "outputs": [],
   "source": []
  },
  {
   "cell_type": "code",
   "execution_count": 24,
   "metadata": {
    "colab": {
     "base_uri": "https://localhost:8080/"
    },
    "id": "nz0ugHfmuxal",
    "outputId": "54be64be-5bee-4120-aff8-353aa5139b8b"
   },
   "outputs": [
    {
     "name": "stdout",
     "output_type": "stream",
     "text": [
      "Training until validation scores don't improve for 10 rounds.\n",
      "[20]\tvalid_0's l1: 3.51847\n",
      "[40]\tvalid_0's l1: 3.13065\n",
      "[60]\tvalid_0's l1: 3.10134\n",
      "Early stopping, best iteration is:\n",
      "[58]\tvalid_0's l1: 3.0972\n"
     ]
    }
   ],
   "source": [
    "\n",
    "d_train = lgb.Dataset(train_x, train_y)\n",
    "d_val = lgb.Dataset(val_x, val_y)\n",
    "\n",
    "params = {\n",
    "    'objective': 'regression',\n",
    "    'metric':'mae',\n",
    "    'seed':42\n",
    "}\n",
    "\n",
    "model = lgb.train(params, d_train, 500, d_val, verbose_eval=20, early_stopping_rounds=10)"
   ]
  },
  {
   "cell_type": "code",
   "execution_count": 24,
   "metadata": {
    "id": "33ckRK0baqf7"
   },
   "outputs": [],
   "source": []
  },
  {
   "cell_type": "code",
   "execution_count": 24,
   "metadata": {
    "id": "aurkp4khaqd1"
   },
   "outputs": [],
   "source": []
  },
  {
   "cell_type": "code",
   "execution_count": 24,
   "metadata": {
    "id": "_bfhXS8M49we"
   },
   "outputs": [],
   "source": []
  },
  {
   "cell_type": "code",
   "execution_count": 24,
   "metadata": {
    "id": "13juK9F1aqcE"
   },
   "outputs": [],
   "source": []
  },
  {
   "cell_type": "code",
   "execution_count": 24,
   "metadata": {
    "id": "ZmyKA4uIj-4s"
   },
   "outputs": [],
   "source": []
  },
  {
   "cell_type": "code",
   "execution_count": 24,
   "metadata": {
    "id": "3bfBwebUaqZj"
   },
   "outputs": [],
   "source": []
  },
  {
   "cell_type": "markdown",
   "metadata": {
    "id": "Ro8uZ1XParEs"
   },
   "source": [
    "----------------------------------------"
   ]
  },
  {
   "cell_type": "code",
   "execution_count": 24,
   "metadata": {
    "id": "v1NvRVWuinH9"
   },
   "outputs": [],
   "source": [
    "\n"
   ]
  },
  {
   "cell_type": "code",
   "execution_count": 25,
   "metadata": {
    "id": "w3NQO50NvFvu"
   },
   "outputs": [],
   "source": [
    "# tmp17 = pd.read_csv('17.csv', encoding='cp949')"
   ]
  },
  {
   "cell_type": "code",
   "execution_count": 26,
   "metadata": {
    "id": "vzZA7jkjvEkp"
   },
   "outputs": [],
   "source": [
    "# 빈데이터 찾기, 추가\n",
    "\n",
    "\n",
    "# tmp17 = pd.read_csv('17.csv', encoding='cp949')\n",
    "# new_data = [108,'서울',0,0,0,0,0,0,0,0] # 넣을 임시데이터\n",
    "\n",
    "# j=0\n",
    "# count = 0\n",
    "# for i in range(len(tmp17['일시'])) :\n",
    "#   st=str(tmp17['일시'][count])\n",
    "#   count+=1\n",
    "#   if(count > len(tmp17['일시'])):\n",
    "#       break\n",
    "#   time = format(j%24,'02') # 있어야 할 시간 카운트\n",
    "\n",
    "#   if st.find(time+\":00\") == -1 :\n",
    "#     j+=1\n",
    "#     new_data[2] = st[:10] +\" \"+time+\":00\"\n",
    "#     tmp17.loc[count-1/(sum+1)] = new_data\n",
    "#     tmp17.sort_index(inplace=True)\n",
    "   \n",
    "#     if (int( time ) - int( st[11:13] )) < -1:\n",
    "#       count = count - 1\n",
    "#       continue\n",
    "#   j+=1\n",
    "# tmp17.reset_index(inplace=True)\n",
    "# # 연속된 빈값 3개 때문에 해결이 미뤄지는중, 빈값에 추가하고 빈값부터 검사하는 작업이 필요"
   ]
  },
  {
   "cell_type": "code",
   "execution_count": 27,
   "metadata": {
    "id": "qKkWB9SwgqSg"
   },
   "outputs": [],
   "source": [
    "# # 빈데이터 찾기, 추가\n",
    "\n",
    "\n",
    "# tmp17 = pd.read_csv('17.csv', encoding='cp949')\n",
    "# new_data = [108,'서울',0,0,0,0,0,0,0,0] # 넣을 임시데이터\n",
    "\n",
    "# j=0\n",
    "# sum = 0\n",
    "# count = 0\n",
    "# for i in range(len(tmp17['일시'])) :\n",
    "#   st=str(tmp17['일시'][count])\n",
    "#   count+=1\n",
    "#   if(count > len(tmp17['일시'])):\n",
    "#       break\n",
    "#   time = format(j%24,'02') # 있어야 할 시간 카운트\n",
    "\n",
    "#   if st.find(time+\":00\") == -1 :\n",
    "#     print(\" =========================== \")\n",
    "#     print(\"\\n결측치 생긴위치 :                   \",st)\n",
    "#     print(\"결측치 위치에 있어야할 시간 추가 :  \", st[:10] +\" \"+time+\":00 \\n\")\n",
    "#     j+=1\n",
    "#     sum +=1\n",
    "#     new_data[2] = st[:10] +\" \"+time+\":00\"\n",
    "#     tmp17.loc[count-1/(sum+1)] = new_data\n",
    "#     tmp17.sort_index()\n",
    "#     # print(count,\"/\")\n",
    "#     # print(count-1/(sum+1))\n",
    "#     # print(tmp17.loc[(count-1/(sum+1))])\n",
    "#     tmp17.sort_index(inplace=True)\n",
    "#     print(tmp17.shape)\n",
    "#     if (int( time ) - int( st[11:13] )) < -1:\n",
    "#       print(\"  연속\")\n",
    "#       count = count - 1\n",
    "#       continue\n",
    "#   j+=1\n",
    "\n",
    "# tmp17.reset_index(inplace=True)\n",
    "\n",
    "# # 연속된 빈값 3개 때문에 해결이 미뤄지는중, 빈값에 추가하고 빈값부터 검사하는 작업이 필요\n",
    "# print(\"\\n------------------------------\")\n",
    "# print(\"결측치 총 개수 :\",sum)\n",
    "# tmp17.info()"
   ]
  },
  {
   "cell_type": "code",
   "execution_count": 28,
   "metadata": {
    "id": "mi-e8tx4y9ms"
   },
   "outputs": [],
   "source": [
    "# tmp17.drop('index', axis = 1, inplace=True)\n",
    "# tmp17[tmp17['기온(°C)']==0]"
   ]
  },
  {
   "cell_type": "code",
   "execution_count": 29,
   "metadata": {
    "id": "RsnD2gr_g8FP"
   },
   "outputs": [],
   "source": [
    "# tmp17.to_csv(\"modi_17.csv\",encoding='euc-kr') # 한글이 깨지는 이슈 -> 인코딩 매개변수로 해결"
   ]
  },
  {
   "cell_type": "code",
   "execution_count": 29,
   "metadata": {
    "id": "a6uLHNNWrxnv"
   },
   "outputs": [],
   "source": []
  },
  {
   "cell_type": "code",
   "execution_count": 30,
   "metadata": {
    "colab": {
     "base_uri": "https://localhost:8080/",
     "height": 614
    },
    "id": "Okkoj18srx-7",
    "outputId": "e5987a98-9e71-4668-b99d-4d772fc9f758"
   },
   "outputs": [
    {
     "data": {
      "text/html": [
       "<div>\n",
       "<style scoped>\n",
       "    .dataframe tbody tr th:only-of-type {\n",
       "        vertical-align: middle;\n",
       "    }\n",
       "\n",
       "    .dataframe tbody tr th {\n",
       "        vertical-align: top;\n",
       "    }\n",
       "\n",
       "    .dataframe thead th {\n",
       "        text-align: right;\n",
       "    }\n",
       "</style>\n",
       "<table border=\"1\" class=\"dataframe\">\n",
       "  <thead>\n",
       "    <tr style=\"text-align: right;\">\n",
       "      <th></th>\n",
       "      <th>연월일</th>\n",
       "      <th>시간</th>\n",
       "      <th>구분</th>\n",
       "      <th>공급량</th>\n",
       "      <th>지점</th>\n",
       "      <th>지점명</th>\n",
       "      <th>기온(°C)</th>\n",
       "      <th>Year</th>\n",
       "      <th>Month</th>\n",
       "      <th>Day</th>\n",
       "      <th>weekday</th>\n",
       "    </tr>\n",
       "  </thead>\n",
       "  <tbody>\n",
       "    <tr>\n",
       "      <th>0</th>\n",
       "      <td>2013-01-01</td>\n",
       "      <td>1</td>\n",
       "      <td>0</td>\n",
       "      <td>7.823297</td>\n",
       "      <td>108</td>\n",
       "      <td>서울</td>\n",
       "      <td>-8.3</td>\n",
       "      <td>2013</td>\n",
       "      <td>1</td>\n",
       "      <td>1</td>\n",
       "      <td>1</td>\n",
       "    </tr>\n",
       "    <tr>\n",
       "      <th>1</th>\n",
       "      <td>2013-01-01</td>\n",
       "      <td>2</td>\n",
       "      <td>0</td>\n",
       "      <td>7.768222</td>\n",
       "      <td>108</td>\n",
       "      <td>서울</td>\n",
       "      <td>-8.5</td>\n",
       "      <td>2013</td>\n",
       "      <td>1</td>\n",
       "      <td>1</td>\n",
       "      <td>1</td>\n",
       "    </tr>\n",
       "    <tr>\n",
       "      <th>2</th>\n",
       "      <td>2013-01-01</td>\n",
       "      <td>3</td>\n",
       "      <td>0</td>\n",
       "      <td>7.722901</td>\n",
       "      <td>108</td>\n",
       "      <td>서울</td>\n",
       "      <td>-8.4</td>\n",
       "      <td>2013</td>\n",
       "      <td>1</td>\n",
       "      <td>1</td>\n",
       "      <td>1</td>\n",
       "    </tr>\n",
       "    <tr>\n",
       "      <th>3</th>\n",
       "      <td>2013-01-01</td>\n",
       "      <td>4</td>\n",
       "      <td>0</td>\n",
       "      <td>7.716447</td>\n",
       "      <td>108</td>\n",
       "      <td>서울</td>\n",
       "      <td>-8.1</td>\n",
       "      <td>2013</td>\n",
       "      <td>1</td>\n",
       "      <td>1</td>\n",
       "      <td>1</td>\n",
       "    </tr>\n",
       "    <tr>\n",
       "      <th>4</th>\n",
       "      <td>2013-01-01</td>\n",
       "      <td>5</td>\n",
       "      <td>0</td>\n",
       "      <td>7.760085</td>\n",
       "      <td>108</td>\n",
       "      <td>서울</td>\n",
       "      <td>-8.2</td>\n",
       "      <td>2013</td>\n",
       "      <td>1</td>\n",
       "      <td>1</td>\n",
       "      <td>1</td>\n",
       "    </tr>\n",
       "    <tr>\n",
       "      <th>...</th>\n",
       "      <td>...</td>\n",
       "      <td>...</td>\n",
       "      <td>...</td>\n",
       "      <td>...</td>\n",
       "      <td>...</td>\n",
       "      <td>...</td>\n",
       "      <td>...</td>\n",
       "      <td>...</td>\n",
       "      <td>...</td>\n",
       "      <td>...</td>\n",
       "      <td>...</td>\n",
       "    </tr>\n",
       "    <tr>\n",
       "      <th>368083</th>\n",
       "      <td>2018-12-31</td>\n",
       "      <td>20</td>\n",
       "      <td>6</td>\n",
       "      <td>6.525078</td>\n",
       "      <td>108</td>\n",
       "      <td>서울</td>\n",
       "      <td>-3.1</td>\n",
       "      <td>2018</td>\n",
       "      <td>12</td>\n",
       "      <td>31</td>\n",
       "      <td>0</td>\n",
       "    </tr>\n",
       "    <tr>\n",
       "      <th>368084</th>\n",
       "      <td>2018-12-31</td>\n",
       "      <td>21</td>\n",
       "      <td>6</td>\n",
       "      <td>6.508711</td>\n",
       "      <td>108</td>\n",
       "      <td>서울</td>\n",
       "      <td>-3.7</td>\n",
       "      <td>2018</td>\n",
       "      <td>12</td>\n",
       "      <td>31</td>\n",
       "      <td>0</td>\n",
       "    </tr>\n",
       "    <tr>\n",
       "      <th>368085</th>\n",
       "      <td>2018-12-31</td>\n",
       "      <td>22</td>\n",
       "      <td>6</td>\n",
       "      <td>6.490634</td>\n",
       "      <td>108</td>\n",
       "      <td>서울</td>\n",
       "      <td>-4.6</td>\n",
       "      <td>2018</td>\n",
       "      <td>12</td>\n",
       "      <td>31</td>\n",
       "      <td>0</td>\n",
       "    </tr>\n",
       "    <tr>\n",
       "      <th>368086</th>\n",
       "      <td>2018-12-31</td>\n",
       "      <td>23</td>\n",
       "      <td>6</td>\n",
       "      <td>6.416655</td>\n",
       "      <td>108</td>\n",
       "      <td>서울</td>\n",
       "      <td>-5.4</td>\n",
       "      <td>2018</td>\n",
       "      <td>12</td>\n",
       "      <td>31</td>\n",
       "      <td>0</td>\n",
       "    </tr>\n",
       "    <tr>\n",
       "      <th>368087</th>\n",
       "      <td>2018-12-31</td>\n",
       "      <td>24</td>\n",
       "      <td>6</td>\n",
       "      <td>6.331317</td>\n",
       "      <td>108</td>\n",
       "      <td>서울</td>\n",
       "      <td>-5.2</td>\n",
       "      <td>2018</td>\n",
       "      <td>12</td>\n",
       "      <td>31</td>\n",
       "      <td>0</td>\n",
       "    </tr>\n",
       "  </tbody>\n",
       "</table>\n",
       "<p>368088 rows × 11 columns</p>\n",
       "</div>"
      ],
      "text/plain": [
       "              연월일  시간  구분       공급량   지점 지점명  기온(°C)  Year  Month  Day  weekday\n",
       "0      2013-01-01   1   0  7.823297  108  서울    -8.3  2013      1    1        1\n",
       "1      2013-01-01   2   0  7.768222  108  서울    -8.5  2013      1    1        1\n",
       "2      2013-01-01   3   0  7.722901  108  서울    -8.4  2013      1    1        1\n",
       "3      2013-01-01   4   0  7.716447  108  서울    -8.1  2013      1    1        1\n",
       "4      2013-01-01   5   0  7.760085  108  서울    -8.2  2013      1    1        1\n",
       "...           ...  ..  ..       ...  ...  ..     ...   ...    ...  ...      ...\n",
       "368083 2018-12-31  20   6  6.525078  108  서울    -3.1  2018     12   31        0\n",
       "368084 2018-12-31  21   6  6.508711  108  서울    -3.7  2018     12   31        0\n",
       "368085 2018-12-31  22   6  6.490634  108  서울    -4.6  2018     12   31        0\n",
       "368086 2018-12-31  23   6  6.416655  108  서울    -5.4  2018     12   31        0\n",
       "368087 2018-12-31  24   6  6.331317  108  서울    -5.2  2018     12   31        0\n",
       "\n",
       "[368088 rows x 11 columns]"
      ]
     },
     "execution_count": 30,
     "metadata": {},
     "output_type": "execute_result"
    }
   ],
   "source": [
    "gas"
   ]
  },
  {
   "cell_type": "code",
   "execution_count": 31,
   "metadata": {
    "colab": {
     "base_uri": "https://localhost:8080/",
     "height": 614
    },
    "id": "Q0keVORow2Jk",
    "outputId": "074d03dd-8a2b-4f2e-c130-e74cca3b3cfb"
   },
   "outputs": [
    {
     "data": {
      "text/html": [
       "<div>\n",
       "<style scoped>\n",
       "    .dataframe tbody tr th:only-of-type {\n",
       "        vertical-align: middle;\n",
       "    }\n",
       "\n",
       "    .dataframe tbody tr th {\n",
       "        vertical-align: top;\n",
       "    }\n",
       "\n",
       "    .dataframe thead th {\n",
       "        text-align: right;\n",
       "    }\n",
       "</style>\n",
       "<table border=\"1\" class=\"dataframe\">\n",
       "  <thead>\n",
       "    <tr style=\"text-align: right;\">\n",
       "      <th></th>\n",
       "      <th>연월일</th>\n",
       "      <th>시간</th>\n",
       "      <th>구분</th>\n",
       "      <th>공급량</th>\n",
       "      <th>지점</th>\n",
       "      <th>지점명</th>\n",
       "      <th>기온(°C)</th>\n",
       "      <th>Year</th>\n",
       "      <th>Month</th>\n",
       "      <th>Day</th>\n",
       "      <th>weekday</th>\n",
       "    </tr>\n",
       "  </thead>\n",
       "  <tbody>\n",
       "    <tr>\n",
       "      <th>0</th>\n",
       "      <td>2013-01-01</td>\n",
       "      <td>1</td>\n",
       "      <td>0</td>\n",
       "      <td>7.823297</td>\n",
       "      <td>108</td>\n",
       "      <td>서울</td>\n",
       "      <td>-8.3</td>\n",
       "      <td>2013</td>\n",
       "      <td>1</td>\n",
       "      <td>1</td>\n",
       "      <td>1</td>\n",
       "    </tr>\n",
       "    <tr>\n",
       "      <th>1</th>\n",
       "      <td>2013-01-01</td>\n",
       "      <td>2</td>\n",
       "      <td>0</td>\n",
       "      <td>7.768222</td>\n",
       "      <td>108</td>\n",
       "      <td>서울</td>\n",
       "      <td>-8.5</td>\n",
       "      <td>2013</td>\n",
       "      <td>1</td>\n",
       "      <td>1</td>\n",
       "      <td>1</td>\n",
       "    </tr>\n",
       "    <tr>\n",
       "      <th>2</th>\n",
       "      <td>2013-01-01</td>\n",
       "      <td>3</td>\n",
       "      <td>0</td>\n",
       "      <td>7.722901</td>\n",
       "      <td>108</td>\n",
       "      <td>서울</td>\n",
       "      <td>-8.4</td>\n",
       "      <td>2013</td>\n",
       "      <td>1</td>\n",
       "      <td>1</td>\n",
       "      <td>1</td>\n",
       "    </tr>\n",
       "    <tr>\n",
       "      <th>3</th>\n",
       "      <td>2013-01-01</td>\n",
       "      <td>4</td>\n",
       "      <td>0</td>\n",
       "      <td>7.716447</td>\n",
       "      <td>108</td>\n",
       "      <td>서울</td>\n",
       "      <td>-8.1</td>\n",
       "      <td>2013</td>\n",
       "      <td>1</td>\n",
       "      <td>1</td>\n",
       "      <td>1</td>\n",
       "    </tr>\n",
       "    <tr>\n",
       "      <th>4</th>\n",
       "      <td>2013-01-01</td>\n",
       "      <td>5</td>\n",
       "      <td>0</td>\n",
       "      <td>7.760085</td>\n",
       "      <td>108</td>\n",
       "      <td>서울</td>\n",
       "      <td>-8.2</td>\n",
       "      <td>2013</td>\n",
       "      <td>1</td>\n",
       "      <td>1</td>\n",
       "      <td>1</td>\n",
       "    </tr>\n",
       "    <tr>\n",
       "      <th>...</th>\n",
       "      <td>...</td>\n",
       "      <td>...</td>\n",
       "      <td>...</td>\n",
       "      <td>...</td>\n",
       "      <td>...</td>\n",
       "      <td>...</td>\n",
       "      <td>...</td>\n",
       "      <td>...</td>\n",
       "      <td>...</td>\n",
       "      <td>...</td>\n",
       "      <td>...</td>\n",
       "    </tr>\n",
       "    <tr>\n",
       "      <th>368083</th>\n",
       "      <td>2018-12-31</td>\n",
       "      <td>20</td>\n",
       "      <td>6</td>\n",
       "      <td>6.525078</td>\n",
       "      <td>108</td>\n",
       "      <td>서울</td>\n",
       "      <td>-3.1</td>\n",
       "      <td>2018</td>\n",
       "      <td>12</td>\n",
       "      <td>31</td>\n",
       "      <td>0</td>\n",
       "    </tr>\n",
       "    <tr>\n",
       "      <th>368084</th>\n",
       "      <td>2018-12-31</td>\n",
       "      <td>21</td>\n",
       "      <td>6</td>\n",
       "      <td>6.508711</td>\n",
       "      <td>108</td>\n",
       "      <td>서울</td>\n",
       "      <td>-3.7</td>\n",
       "      <td>2018</td>\n",
       "      <td>12</td>\n",
       "      <td>31</td>\n",
       "      <td>0</td>\n",
       "    </tr>\n",
       "    <tr>\n",
       "      <th>368085</th>\n",
       "      <td>2018-12-31</td>\n",
       "      <td>22</td>\n",
       "      <td>6</td>\n",
       "      <td>6.490634</td>\n",
       "      <td>108</td>\n",
       "      <td>서울</td>\n",
       "      <td>-4.6</td>\n",
       "      <td>2018</td>\n",
       "      <td>12</td>\n",
       "      <td>31</td>\n",
       "      <td>0</td>\n",
       "    </tr>\n",
       "    <tr>\n",
       "      <th>368086</th>\n",
       "      <td>2018-12-31</td>\n",
       "      <td>23</td>\n",
       "      <td>6</td>\n",
       "      <td>6.416655</td>\n",
       "      <td>108</td>\n",
       "      <td>서울</td>\n",
       "      <td>-5.4</td>\n",
       "      <td>2018</td>\n",
       "      <td>12</td>\n",
       "      <td>31</td>\n",
       "      <td>0</td>\n",
       "    </tr>\n",
       "    <tr>\n",
       "      <th>368087</th>\n",
       "      <td>2018-12-31</td>\n",
       "      <td>24</td>\n",
       "      <td>6</td>\n",
       "      <td>6.331317</td>\n",
       "      <td>108</td>\n",
       "      <td>서울</td>\n",
       "      <td>-5.2</td>\n",
       "      <td>2018</td>\n",
       "      <td>12</td>\n",
       "      <td>31</td>\n",
       "      <td>0</td>\n",
       "    </tr>\n",
       "  </tbody>\n",
       "</table>\n",
       "<p>368088 rows × 11 columns</p>\n",
       "</div>"
      ],
      "text/plain": [
       "              연월일  시간  구분       공급량   지점 지점명  기온(°C)  Year  Month  Day  weekday\n",
       "0      2013-01-01   1   0  7.823297  108  서울    -8.3  2013      1    1        1\n",
       "1      2013-01-01   2   0  7.768222  108  서울    -8.5  2013      1    1        1\n",
       "2      2013-01-01   3   0  7.722901  108  서울    -8.4  2013      1    1        1\n",
       "3      2013-01-01   4   0  7.716447  108  서울    -8.1  2013      1    1        1\n",
       "4      2013-01-01   5   0  7.760085  108  서울    -8.2  2013      1    1        1\n",
       "...           ...  ..  ..       ...  ...  ..     ...   ...    ...  ...      ...\n",
       "368083 2018-12-31  20   6  6.525078  108  서울    -3.1  2018     12   31        0\n",
       "368084 2018-12-31  21   6  6.508711  108  서울    -3.7  2018     12   31        0\n",
       "368085 2018-12-31  22   6  6.490634  108  서울    -4.6  2018     12   31        0\n",
       "368086 2018-12-31  23   6  6.416655  108  서울    -5.4  2018     12   31        0\n",
       "368087 2018-12-31  24   6  6.331317  108  서울    -5.2  2018     12   31        0\n",
       "\n",
       "[368088 rows x 11 columns]"
      ]
     },
     "execution_count": 31,
     "metadata": {},
     "output_type": "execute_result"
    }
   ],
   "source": [
    "gas"
   ]
  },
  {
   "cell_type": "code",
   "execution_count": 32,
   "metadata": {
    "id": "t4pHBWjorx8v"
   },
   "outputs": [],
   "source": [
    "gas.drop(['지점','지점명'],axis=1,inplace=True)"
   ]
  },
  {
   "cell_type": "code",
   "execution_count": 33,
   "metadata": {
    "colab": {
     "base_uri": "https://localhost:8080/"
    },
    "id": "Grdh80oPw7iL",
    "outputId": "d8b17aef-2a55-4be2-d181-5f39b687b751"
   },
   "outputs": [
    {
     "name": "stdout",
     "output_type": "stream",
     "text": [
      "Categorical Columns: \n",
      "[]\n",
      "\n",
      "Numeric Columns: \n",
      "['연월일', '시간', '구분', '공급량', '기온(°C)', 'Year', 'Month', 'Day', 'weekday']\n"
     ]
    }
   ],
   "source": [
    "cat_columns = [c for c, t in zip(gas.dtypes.index, gas.dtypes) if t == 'O'] \n",
    "num_columns = [c for c    in gas.columns if c not in cat_columns]\n",
    "\n",
    "print('Categorical Columns: \\n{}\\n'.format(cat_columns))\n",
    "print('Numeric Columns: \\n{}'.format(num_columns))"
   ]
  },
  {
   "cell_type": "code",
   "execution_count": 34,
   "metadata": {
    "id": "e3SKwIAAw7fo"
   },
   "outputs": [],
   "source": [
    "numeric_data = gas[num_columns]"
   ]
  },
  {
   "cell_type": "code",
   "execution_count": 34,
   "metadata": {
    "id": "5hnTH_1VvVo7"
   },
   "outputs": [],
   "source": []
  },
  {
   "cell_type": "code",
   "execution_count": 34,
   "metadata": {
    "id": "Al1XOGWkvVmb"
   },
   "outputs": [],
   "source": []
  },
  {
   "cell_type": "code",
   "execution_count": 34,
   "metadata": {
    "id": "qKds5SvPvVjZ"
   },
   "outputs": [],
   "source": []
  },
  {
   "cell_type": "code",
   "execution_count": 34,
   "metadata": {
    "id": "Tb67Udt7vVhJ"
   },
   "outputs": [],
   "source": []
  },
  {
   "cell_type": "code",
   "execution_count": 34,
   "metadata": {
    "id": "D-fpljL6vVed"
   },
   "outputs": [],
   "source": []
  },
  {
   "cell_type": "code",
   "execution_count": 34,
   "metadata": {
    "id": "R0FwtuN0vVb9"
   },
   "outputs": [],
   "source": []
  },
  {
   "cell_type": "code",
   "execution_count": 34,
   "metadata": {
    "id": "UQx3geYAvVZO"
   },
   "outputs": [],
   "source": []
  },
  {
   "cell_type": "code",
   "execution_count": 34,
   "metadata": {
    "id": "1uKUUbaDvVXI"
   },
   "outputs": [],
   "source": []
  },
  {
   "cell_type": "code",
   "execution_count": 34,
   "metadata": {
    "id": "a8x_XOpgvVUs"
   },
   "outputs": [],
   "source": []
  },
  {
   "cell_type": "code",
   "execution_count": 34,
   "metadata": {
    "id": "wyQkralUvVSX"
   },
   "outputs": [],
   "source": []
  },
  {
   "cell_type": "code",
   "execution_count": 34,
   "metadata": {
    "id": "Tqwhyl74vVQL"
   },
   "outputs": [],
   "source": []
  },
  {
   "cell_type": "code",
   "execution_count": 34,
   "metadata": {
    "id": "otsBrr5svVN1"
   },
   "outputs": [],
   "source": []
  },
  {
   "cell_type": "code",
   "execution_count": 34,
   "metadata": {
    "id": "hPqd6udvvVLq"
   },
   "outputs": [],
   "source": []
  },
  {
   "cell_type": "code",
   "execution_count": 35,
   "metadata": {
    "id": "JxamCzAdwx2m"
   },
   "outputs": [],
   "source": [
    "test['일자|시간|구분'] = test['일자|시간|구분'].astype('str')\n",
    "test_split = \ttest['일자|시간|구분'].str.split(' ')\n",
    "\n",
    "test['일자'] = test_split.str.get(0)\n",
    "test['시간'] = test_split.str.get(1).astype(int)\n",
    "test['구분'] = test_split.str.get(2)\n",
    "test.drop('일자|시간|구분',axis=1,inplace=True)\n",
    "\n",
    "test['일자'] = pd.to_datetime(test['일자'])\n",
    "test['Year'] = test['일자'].dt.year\n",
    "test['Month'] = test['일자'].dt.month\n",
    "test['Day'] = test['일자'].dt.day\n",
    "test['weekday'] = test['일자'].dt.weekday\n",
    "test['구분'] = test['구분'].map(d_map)"
   ]
  },
  {
   "cell_type": "code",
   "execution_count": 36,
   "metadata": {
    "colab": {
     "base_uri": "https://localhost:8080/",
     "height": 414
    },
    "id": "THnZLsmtyUS4",
    "outputId": "fab22cd5-7a6c-42bf-9cee-85a9968d5eed"
   },
   "outputs": [
    {
     "data": {
      "text/html": [
       "<div>\n",
       "<style scoped>\n",
       "    .dataframe tbody tr th:only-of-type {\n",
       "        vertical-align: middle;\n",
       "    }\n",
       "\n",
       "    .dataframe tbody tr th {\n",
       "        vertical-align: top;\n",
       "    }\n",
       "\n",
       "    .dataframe thead th {\n",
       "        text-align: right;\n",
       "    }\n",
       "</style>\n",
       "<table border=\"1\" class=\"dataframe\">\n",
       "  <thead>\n",
       "    <tr style=\"text-align: right;\">\n",
       "      <th></th>\n",
       "      <th>구분</th>\n",
       "      <th>Month</th>\n",
       "      <th>Day</th>\n",
       "      <th>weekday</th>\n",
       "      <th>시간</th>\n",
       "    </tr>\n",
       "  </thead>\n",
       "  <tbody>\n",
       "    <tr>\n",
       "      <th>0</th>\n",
       "      <td>0</td>\n",
       "      <td>1</td>\n",
       "      <td>1</td>\n",
       "      <td>1</td>\n",
       "      <td>1</td>\n",
       "    </tr>\n",
       "    <tr>\n",
       "      <th>1</th>\n",
       "      <td>0</td>\n",
       "      <td>1</td>\n",
       "      <td>1</td>\n",
       "      <td>1</td>\n",
       "      <td>2</td>\n",
       "    </tr>\n",
       "    <tr>\n",
       "      <th>2</th>\n",
       "      <td>0</td>\n",
       "      <td>1</td>\n",
       "      <td>1</td>\n",
       "      <td>1</td>\n",
       "      <td>3</td>\n",
       "    </tr>\n",
       "    <tr>\n",
       "      <th>3</th>\n",
       "      <td>0</td>\n",
       "      <td>1</td>\n",
       "      <td>1</td>\n",
       "      <td>1</td>\n",
       "      <td>4</td>\n",
       "    </tr>\n",
       "    <tr>\n",
       "      <th>4</th>\n",
       "      <td>0</td>\n",
       "      <td>1</td>\n",
       "      <td>1</td>\n",
       "      <td>1</td>\n",
       "      <td>5</td>\n",
       "    </tr>\n",
       "    <tr>\n",
       "      <th>...</th>\n",
       "      <td>...</td>\n",
       "      <td>...</td>\n",
       "      <td>...</td>\n",
       "      <td>...</td>\n",
       "      <td>...</td>\n",
       "    </tr>\n",
       "    <tr>\n",
       "      <th>15115</th>\n",
       "      <td>6</td>\n",
       "      <td>3</td>\n",
       "      <td>31</td>\n",
       "      <td>6</td>\n",
       "      <td>20</td>\n",
       "    </tr>\n",
       "    <tr>\n",
       "      <th>15116</th>\n",
       "      <td>6</td>\n",
       "      <td>3</td>\n",
       "      <td>31</td>\n",
       "      <td>6</td>\n",
       "      <td>21</td>\n",
       "    </tr>\n",
       "    <tr>\n",
       "      <th>15117</th>\n",
       "      <td>6</td>\n",
       "      <td>3</td>\n",
       "      <td>31</td>\n",
       "      <td>6</td>\n",
       "      <td>22</td>\n",
       "    </tr>\n",
       "    <tr>\n",
       "      <th>15118</th>\n",
       "      <td>6</td>\n",
       "      <td>3</td>\n",
       "      <td>31</td>\n",
       "      <td>6</td>\n",
       "      <td>23</td>\n",
       "    </tr>\n",
       "    <tr>\n",
       "      <th>15119</th>\n",
       "      <td>6</td>\n",
       "      <td>3</td>\n",
       "      <td>31</td>\n",
       "      <td>6</td>\n",
       "      <td>24</td>\n",
       "    </tr>\n",
       "  </tbody>\n",
       "</table>\n",
       "<p>15120 rows × 5 columns</p>\n",
       "</div>"
      ],
      "text/plain": [
       "       구분  Month  Day  weekday  시간\n",
       "0       0      1    1        1   1\n",
       "1       0      1    1        1   2\n",
       "2       0      1    1        1   3\n",
       "3       0      1    1        1   4\n",
       "4       0      1    1        1   5\n",
       "...    ..    ...  ...      ...  ..\n",
       "15115   6      3   31        6  20\n",
       "15116   6      3   31        6  21\n",
       "15117   6      3   31        6  22\n",
       "15118   6      3   31        6  23\n",
       "15119   6      3   31        6  24\n",
       "\n",
       "[15120 rows x 5 columns]"
      ]
     },
     "execution_count": 36,
     "metadata": {},
     "output_type": "execute_result"
    }
   ],
   "source": [
    "test_x = test[features]\n",
    "test_x"
   ]
  },
  {
   "cell_type": "code",
   "execution_count": 37,
   "metadata": {
    "colab": {
     "base_uri": "https://localhost:8080/"
    },
    "id": "p9AP-2qTvN1V",
    "outputId": "8988d142-6d8d-49a1-8ebc-caff3033970e"
   },
   "outputs": [
    {
     "data": {
      "text/plain": [
       "array([-3.25407296, -3.60819802, -3.93580978, ...,  9.1032642 ,\n",
       "        8.58442376,  8.36300935])"
      ]
     },
     "execution_count": 37,
     "metadata": {},
     "output_type": "execute_result"
    }
   ],
   "source": [
    "preds = model.predict(test_x)\n",
    "preds"
   ]
  },
  {
   "cell_type": "code",
   "execution_count": 38,
   "metadata": {
    "colab": {
     "base_uri": "https://localhost:8080/",
     "height": 202
    },
    "id": "puAtM0ybvNv3",
    "outputId": "10bf58db-103d-412a-f1f7-0c20c99a5529"
   },
   "outputs": [
    {
     "data": {
      "text/html": [
       "<div>\n",
       "<style scoped>\n",
       "    .dataframe tbody tr th:only-of-type {\n",
       "        vertical-align: middle;\n",
       "    }\n",
       "\n",
       "    .dataframe tbody tr th {\n",
       "        vertical-align: top;\n",
       "    }\n",
       "\n",
       "    .dataframe thead th {\n",
       "        text-align: right;\n",
       "    }\n",
       "</style>\n",
       "<table border=\"1\" class=\"dataframe\">\n",
       "  <thead>\n",
       "    <tr style=\"text-align: right;\">\n",
       "      <th></th>\n",
       "      <th>일자</th>\n",
       "      <th>시간</th>\n",
       "      <th>구분</th>\n",
       "      <th>Year</th>\n",
       "      <th>Month</th>\n",
       "      <th>Day</th>\n",
       "      <th>weekday</th>\n",
       "      <th>기온(°C)</th>\n",
       "    </tr>\n",
       "  </thead>\n",
       "  <tbody>\n",
       "    <tr>\n",
       "      <th>0</th>\n",
       "      <td>2019-01-01</td>\n",
       "      <td>1</td>\n",
       "      <td>0</td>\n",
       "      <td>2019</td>\n",
       "      <td>1</td>\n",
       "      <td>1</td>\n",
       "      <td>1</td>\n",
       "      <td>-3.254073</td>\n",
       "    </tr>\n",
       "    <tr>\n",
       "      <th>1</th>\n",
       "      <td>2019-01-01</td>\n",
       "      <td>2</td>\n",
       "      <td>0</td>\n",
       "      <td>2019</td>\n",
       "      <td>1</td>\n",
       "      <td>1</td>\n",
       "      <td>1</td>\n",
       "      <td>-3.608198</td>\n",
       "    </tr>\n",
       "    <tr>\n",
       "      <th>2</th>\n",
       "      <td>2019-01-01</td>\n",
       "      <td>3</td>\n",
       "      <td>0</td>\n",
       "      <td>2019</td>\n",
       "      <td>1</td>\n",
       "      <td>1</td>\n",
       "      <td>1</td>\n",
       "      <td>-3.935810</td>\n",
       "    </tr>\n",
       "    <tr>\n",
       "      <th>3</th>\n",
       "      <td>2019-01-01</td>\n",
       "      <td>4</td>\n",
       "      <td>0</td>\n",
       "      <td>2019</td>\n",
       "      <td>1</td>\n",
       "      <td>1</td>\n",
       "      <td>1</td>\n",
       "      <td>-4.113031</td>\n",
       "    </tr>\n",
       "    <tr>\n",
       "      <th>4</th>\n",
       "      <td>2019-01-01</td>\n",
       "      <td>5</td>\n",
       "      <td>0</td>\n",
       "      <td>2019</td>\n",
       "      <td>1</td>\n",
       "      <td>1</td>\n",
       "      <td>1</td>\n",
       "      <td>-4.464113</td>\n",
       "    </tr>\n",
       "  </tbody>\n",
       "</table>\n",
       "</div>"
      ],
      "text/plain": [
       "          일자  시간  구분  Year  Month  Day  weekday    기온(°C)\n",
       "0 2019-01-01   1   0  2019      1    1        1 -3.254073\n",
       "1 2019-01-01   2   0  2019      1    1        1 -3.608198\n",
       "2 2019-01-01   3   0  2019      1    1        1 -3.935810\n",
       "3 2019-01-01   4   0  2019      1    1        1 -4.113031\n",
       "4 2019-01-01   5   0  2019      1    1        1 -4.464113"
      ]
     },
     "execution_count": 38,
     "metadata": {},
     "output_type": "execute_result"
    }
   ],
   "source": [
    "test[\"기온(°C)\"] = preds\n",
    "\n",
    "test.head()"
   ]
  },
  {
   "cell_type": "code",
   "execution_count": 39,
   "metadata": {
    "colab": {
     "base_uri": "https://localhost:8080/",
     "height": 414
    },
    "id": "8ko1sRXuvNpG",
    "outputId": "4fdca2a7-c27c-48b5-e05c-72a45e1350e8"
   },
   "outputs": [
    {
     "data": {
      "text/html": [
       "<div>\n",
       "<style scoped>\n",
       "    .dataframe tbody tr th:only-of-type {\n",
       "        vertical-align: middle;\n",
       "    }\n",
       "\n",
       "    .dataframe tbody tr th {\n",
       "        vertical-align: top;\n",
       "    }\n",
       "\n",
       "    .dataframe thead th {\n",
       "        text-align: right;\n",
       "    }\n",
       "</style>\n",
       "<table border=\"1\" class=\"dataframe\">\n",
       "  <thead>\n",
       "    <tr style=\"text-align: right;\">\n",
       "      <th></th>\n",
       "      <th>일자</th>\n",
       "      <th>시간</th>\n",
       "      <th>구분</th>\n",
       "      <th>Year</th>\n",
       "      <th>Month</th>\n",
       "      <th>Day</th>\n",
       "      <th>weekday</th>\n",
       "      <th>기온(°C)</th>\n",
       "    </tr>\n",
       "  </thead>\n",
       "  <tbody>\n",
       "    <tr>\n",
       "      <th>0</th>\n",
       "      <td>2019-01-01</td>\n",
       "      <td>1</td>\n",
       "      <td>0</td>\n",
       "      <td>2019</td>\n",
       "      <td>1</td>\n",
       "      <td>1</td>\n",
       "      <td>1</td>\n",
       "      <td>-3.254073</td>\n",
       "    </tr>\n",
       "    <tr>\n",
       "      <th>1</th>\n",
       "      <td>2019-01-01</td>\n",
       "      <td>2</td>\n",
       "      <td>0</td>\n",
       "      <td>2019</td>\n",
       "      <td>1</td>\n",
       "      <td>1</td>\n",
       "      <td>1</td>\n",
       "      <td>-3.608198</td>\n",
       "    </tr>\n",
       "    <tr>\n",
       "      <th>2</th>\n",
       "      <td>2019-01-01</td>\n",
       "      <td>3</td>\n",
       "      <td>0</td>\n",
       "      <td>2019</td>\n",
       "      <td>1</td>\n",
       "      <td>1</td>\n",
       "      <td>1</td>\n",
       "      <td>-3.935810</td>\n",
       "    </tr>\n",
       "    <tr>\n",
       "      <th>3</th>\n",
       "      <td>2019-01-01</td>\n",
       "      <td>4</td>\n",
       "      <td>0</td>\n",
       "      <td>2019</td>\n",
       "      <td>1</td>\n",
       "      <td>1</td>\n",
       "      <td>1</td>\n",
       "      <td>-4.113031</td>\n",
       "    </tr>\n",
       "    <tr>\n",
       "      <th>4</th>\n",
       "      <td>2019-01-01</td>\n",
       "      <td>5</td>\n",
       "      <td>0</td>\n",
       "      <td>2019</td>\n",
       "      <td>1</td>\n",
       "      <td>1</td>\n",
       "      <td>1</td>\n",
       "      <td>-4.464113</td>\n",
       "    </tr>\n",
       "    <tr>\n",
       "      <th>...</th>\n",
       "      <td>...</td>\n",
       "      <td>...</td>\n",
       "      <td>...</td>\n",
       "      <td>...</td>\n",
       "      <td>...</td>\n",
       "      <td>...</td>\n",
       "      <td>...</td>\n",
       "      <td>...</td>\n",
       "    </tr>\n",
       "    <tr>\n",
       "      <th>15115</th>\n",
       "      <td>2019-03-31</td>\n",
       "      <td>20</td>\n",
       "      <td>6</td>\n",
       "      <td>2019</td>\n",
       "      <td>3</td>\n",
       "      <td>31</td>\n",
       "      <td>6</td>\n",
       "      <td>10.672685</td>\n",
       "    </tr>\n",
       "    <tr>\n",
       "      <th>15116</th>\n",
       "      <td>2019-03-31</td>\n",
       "      <td>21</td>\n",
       "      <td>6</td>\n",
       "      <td>2019</td>\n",
       "      <td>3</td>\n",
       "      <td>31</td>\n",
       "      <td>6</td>\n",
       "      <td>9.888458</td>\n",
       "    </tr>\n",
       "    <tr>\n",
       "      <th>15117</th>\n",
       "      <td>2019-03-31</td>\n",
       "      <td>22</td>\n",
       "      <td>6</td>\n",
       "      <td>2019</td>\n",
       "      <td>3</td>\n",
       "      <td>31</td>\n",
       "      <td>6</td>\n",
       "      <td>9.103264</td>\n",
       "    </tr>\n",
       "    <tr>\n",
       "      <th>15118</th>\n",
       "      <td>2019-03-31</td>\n",
       "      <td>23</td>\n",
       "      <td>6</td>\n",
       "      <td>2019</td>\n",
       "      <td>3</td>\n",
       "      <td>31</td>\n",
       "      <td>6</td>\n",
       "      <td>8.584424</td>\n",
       "    </tr>\n",
       "    <tr>\n",
       "      <th>15119</th>\n",
       "      <td>2019-03-31</td>\n",
       "      <td>24</td>\n",
       "      <td>6</td>\n",
       "      <td>2019</td>\n",
       "      <td>3</td>\n",
       "      <td>31</td>\n",
       "      <td>6</td>\n",
       "      <td>8.363009</td>\n",
       "    </tr>\n",
       "  </tbody>\n",
       "</table>\n",
       "<p>15120 rows × 8 columns</p>\n",
       "</div>"
      ],
      "text/plain": [
       "              일자  시간  구분  Year  Month  Day  weekday     기온(°C)\n",
       "0     2019-01-01   1   0  2019      1    1        1  -3.254073\n",
       "1     2019-01-01   2   0  2019      1    1        1  -3.608198\n",
       "2     2019-01-01   3   0  2019      1    1        1  -3.935810\n",
       "3     2019-01-01   4   0  2019      1    1        1  -4.113031\n",
       "4     2019-01-01   5   0  2019      1    1        1  -4.464113\n",
       "...          ...  ..  ..   ...    ...  ...      ...        ...\n",
       "15115 2019-03-31  20   6  2019      3   31        6  10.672685\n",
       "15116 2019-03-31  21   6  2019      3   31        6   9.888458\n",
       "15117 2019-03-31  22   6  2019      3   31        6   9.103264\n",
       "15118 2019-03-31  23   6  2019      3   31        6   8.584424\n",
       "15119 2019-03-31  24   6  2019      3   31        6   8.363009\n",
       "\n",
       "[15120 rows x 8 columns]"
      ]
     },
     "execution_count": 39,
     "metadata": {},
     "output_type": "execute_result"
    }
   ],
   "source": [
    "test"
   ]
  },
  {
   "cell_type": "code",
   "execution_count": 39,
   "metadata": {
    "id": "-Ys1SFdC8xdS"
   },
   "outputs": [],
   "source": []
  },
  {
   "cell_type": "code",
   "execution_count": 40,
   "metadata": {
    "id": "ar9qPvJqyUQv"
   },
   "outputs": [],
   "source": [
    "train_years = [2013,2014,2015,2016,2017]\n",
    "val_years = [2018]\n",
    "\n",
    "train = gas[gas['Year'].isin(train_years)]\n",
    "val = gas[gas['Year'].isin(val_years)]\n",
    "\n",
    "features = ['구분', 'Month','Day', '시간', '기온(°C)']\n",
    "X_train = train[features]\n",
    "y_train = train['공급량']\n",
    "\n",
    "X_test = val[features]\n",
    "Y_test = val['공급량']"
   ]
  },
  {
   "cell_type": "code",
   "execution_count": 41,
   "metadata": {
    "colab": {
     "base_uri": "https://localhost:8080/"
    },
    "id": "EEq0j6zilkIq",
    "outputId": "286a3a6f-79c0-442b-a783-f26cf9f1aadd"
   },
   "outputs": [
    {
     "name": "stdout",
     "output_type": "stream",
     "text": [
      "<class 'pandas.core.frame.DataFrame'>\n",
      "RangeIndex: 368088 entries, 0 to 368087\n",
      "Data columns (total 1 columns):\n",
      " #   Column  Non-Null Count   Dtype  \n",
      "---  ------  --------------   -----  \n",
      " 0   기온(°C)  320201 non-null  float64\n",
      "dtypes: float64(1)\n",
      "memory usage: 2.8 MB\n"
     ]
    },
    {
     "name": "stderr",
     "output_type": "stream",
     "text": [
      "/usr/local/lib/python3.7/dist-packages/pandas/core/series.py:726: RuntimeWarning: divide by zero encountered in log1p\n",
      "  result = getattr(ufunc, method)(*inputs, **kwargs)\n",
      "/usr/local/lib/python3.7/dist-packages/pandas/core/series.py:726: RuntimeWarning: invalid value encountered in log1p\n",
      "  result = getattr(ufunc, method)(*inputs, **kwargs)\n"
     ]
    }
   ],
   "source": [
    "pd.DataFrame(np.log1p(gas['기온(°C)'])).info()"
   ]
  },
  {
   "cell_type": "code",
   "execution_count": 42,
   "metadata": {
    "colab": {
     "base_uri": "https://localhost:8080/"
    },
    "id": "Whuq7lJDNUrx",
    "outputId": "bea666e9-ada2-47ea-b867-42f264cfd277"
   },
   "outputs": [
    {
     "name": "stdout",
     "output_type": "stream",
     "text": [
      "<class 'pandas.core.frame.DataFrame'>\n",
      "RangeIndex: 368088 entries, 0 to 368087\n",
      "Data columns (total 9 columns):\n",
      " #   Column   Non-Null Count   Dtype         \n",
      "---  ------   --------------   -----         \n",
      " 0   연월일      368088 non-null  datetime64[ns]\n",
      " 1   시간       368088 non-null  int64         \n",
      " 2   구분       368088 non-null  int64         \n",
      " 3   공급량      368088 non-null  float64       \n",
      " 4   기온(°C)   368088 non-null  float64       \n",
      " 5   Year     368088 non-null  int64         \n",
      " 6   Month    368088 non-null  int64         \n",
      " 7   Day      368088 non-null  int64         \n",
      " 8   weekday  368088 non-null  int64         \n",
      "dtypes: datetime64[ns](1), float64(2), int64(6)\n",
      "memory usage: 25.3 MB\n"
     ]
    }
   ],
   "source": [
    "gas.info()"
   ]
  },
  {
   "cell_type": "code",
   "execution_count": 43,
   "metadata": {
    "colab": {
     "base_uri": "https://localhost:8080/"
    },
    "id": "vIEb1O7ZNWOQ",
    "outputId": "cb9f0496-ab4c-49a0-f21e-e52ea792db90"
   },
   "outputs": [
    {
     "name": "stdout",
     "output_type": "stream",
     "text": [
      "(368088, 5)\n",
      "(15120, 5)\n",
      "(368088,)\n"
     ]
    }
   ],
   "source": [
    "X_train = gas[features]\n",
    "X_test = test[features]\n",
    "y_train = gas['공급량']\n",
    "print(X_train.shape)\n",
    "print(X_test.shape)\n",
    "print(y_train.shape)"
   ]
  },
  {
   "cell_type": "code",
   "execution_count": 44,
   "metadata": {
    "id": "4-cfSC0K9g-j"
   },
   "outputs": [],
   "source": [
    "# ------------------------------------------------ 학습시키기"
   ]
  },
  {
   "cell_type": "code",
   "execution_count": 44,
   "metadata": {
    "id": "mY9eKtTY-Ym_"
   },
   "outputs": [],
   "source": []
  },
  {
   "cell_type": "code",
   "execution_count": 45,
   "metadata": {
    "id": "KbQ-Us17-ohi"
   },
   "outputs": [],
   "source": [
    "from sklearn.ensemble import RandomForestRegressor, GradientBoostingRegressor\n",
    "import xgboost as xgb\n",
    "import lightgbm as lgb\n",
    "from sklearn.linear_model import LinearRegression, LassoCV, RidgeCV, ElasticNetCV,LogisticRegression\n",
    "from sklearn.kernel_ridge import KernelRidge\n",
    "from sklearn.svm import SVR\n",
    "from sklearn.pipeline import make_pipeline\n",
    "from sklearn.preprocessing import RobustScaler\n",
    "from lightgbm import LGBMRegressor\n",
    "from sklearn.metrics import accuracy_score"
   ]
  },
  {
   "cell_type": "code",
   "execution_count": 46,
   "metadata": {
    "id": "WIviyBw7oXET"
   },
   "outputs": [],
   "source": [
    "#Validation function\n",
    "\n",
    "n_folds = 5\n",
    "\n",
    "def rmsle_cv(model):\n",
    "    kf = KFold(n_folds, shuffle=True, random_state=42).get_n_splits(X_train.values)\n",
    "    rmse= np.sqrt(-cross_val_score(model, X_train.values, y_train, scoring=\"neg_mean_squared_error\", cv = kf))\n",
    "    return(rmse)"
   ]
  },
  {
   "cell_type": "code",
   "execution_count": 46,
   "metadata": {
    "id": "Z8Co38J_owfX"
   },
   "outputs": [],
   "source": []
  },
  {
   "cell_type": "code",
   "execution_count": 47,
   "metadata": {
    "id": "0NT1xVtuJNaR"
   },
   "outputs": [],
   "source": [
    "\n",
    "gb = GradientBoostingRegressor(n_estimators=250,random_state=0)\n",
    "\n",
    "xgboost = xgb.XGBRegressor(n_estimators=250,random_state=0,nthread = -1)\n",
    "\n",
    "lightgb = lgb.LGBMRegressor(n_estimators=250,random_state=0)\n",
    "\n",
    "rf = RandomForestRegressor(n_estimators=250,random_state=0)\n",
    "\n",
    "ridge = RidgeCV(cv = 10)\n",
    "ridge = make_pipeline(RobustScaler(),ridge)\n"
   ]
  },
  {
   "cell_type": "code",
   "execution_count": 48,
   "metadata": {
    "id": "6OxKTrGKmxho"
   },
   "outputs": [],
   "source": [
    "lr_final = LogisticRegression(C=10)"
   ]
  },
  {
   "cell_type": "code",
   "execution_count": 49,
   "metadata": {
    "id": "IC87cFhjo0nB"
   },
   "outputs": [],
   "source": [
    "# score = rmsle_cv(gb)\n",
    "# gb_score = score.mean()\n",
    "# print(\"GradientBoostingRegressor score: {:.4f} ({:.4f})\".format(score.mean(), score.std()))\n",
    "\n",
    "# score = rmsle_cv(xgboost)\n",
    "# xgb_score = score.mean()\n",
    "# print(\"XGBRegressor score: {:.4f} ({:.4f})\".format(score.mean(), score.std()))\n",
    "\n",
    "# score = rmsle_cv(rf)\n",
    "# print(\"rf score: {:.4f} ({:.4f})\".format(score.mean(), score.std()))\n",
    "\n",
    "# score = rmsle_cv(ridge)\n",
    "# print(\"ridge score: {:.4f} ({:.4f})\".format(score.mean(), score.std())) \n",
    "\n",
    "# score = rmsle_cv(lightgb)\n",
    "# lgb_score = score.mean()\n",
    "# print(\"LGBMRegressor score: {:.4f} ({:.4f})\".format(score.mean(), score.std()))"
   ]
  },
  {
   "cell_type": "code",
   "execution_count": 50,
   "metadata": {
    "id": "W52jvJF0n1ly"
   },
   "outputs": [],
   "source": [
    "from mlxtend.regressor import StackingCVRegressor"
   ]
  },
  {
   "cell_type": "code",
   "execution_count": 50,
   "metadata": {
    "id": "VGDilDIKo0OM"
   },
   "outputs": [],
   "source": []
  },
  {
   "cell_type": "code",
   "execution_count": 51,
   "metadata": {
    "id": "b37nCP_tnzt-"
   },
   "outputs": [],
   "source": [
    "stack = StackingCVRegressor(regressors=(gb, xgboost, lightgb, rf, ridge),#svr\n",
    "                                meta_regressor=xgboost,\n",
    "                                use_features_in_secondary=True\n",
    "                            )"
   ]
  },
  {
   "cell_type": "code",
   "execution_count": 52,
   "metadata": {
    "id": "xofYMHeZnziY"
   },
   "outputs": [],
   "source": [
    "# score = rmsle_cv(stack)\n",
    "# print(\"stack score: {:.4f} ({:.4f})\".format(score.mean(), score.std()))"
   ]
  },
  {
   "cell_type": "code",
   "execution_count": 53,
   "metadata": {
    "colab": {
     "base_uri": "https://localhost:8080/"
    },
    "id": "hvH09NoIpQaJ",
    "outputId": "cbb78d3a-ed0d-4413-caad-162139ceb6f6"
   },
   "outputs": [
    {
     "name": "stdout",
     "output_type": "stream",
     "text": [
      "[00:35:28] WARNING: /workspace/src/objective/regression_obj.cu:152: reg:linear is now deprecated in favor of reg:squarederror.\n",
      "[00:36:00] WARNING: /workspace/src/objective/regression_obj.cu:152: reg:linear is now deprecated in favor of reg:squarederror.\n",
      "[00:36:23] WARNING: /workspace/src/objective/regression_obj.cu:152: reg:linear is now deprecated in favor of reg:squarederror.\n",
      "[00:36:47] WARNING: /workspace/src/objective/regression_obj.cu:152: reg:linear is now deprecated in favor of reg:squarederror.\n",
      "[00:37:10] WARNING: /workspace/src/objective/regression_obj.cu:152: reg:linear is now deprecated in favor of reg:squarederror.\n",
      "[00:56:35] WARNING: /workspace/src/objective/regression_obj.cu:152: reg:linear is now deprecated in favor of reg:squarederror.\n",
      "[00:58:41] WARNING: /workspace/src/objective/regression_obj.cu:152: reg:linear is now deprecated in favor of reg:squarederror.\n"
     ]
    }
   ],
   "source": [
    "\n",
    "stack_model = stack.fit(np.array(X_train), y_train)\n"
   ]
  },
  {
   "cell_type": "code",
   "execution_count": 54,
   "metadata": {
    "id": "fPHHhaQjpS30"
   },
   "outputs": [],
   "source": [
    "\n",
    "pred = stack_model.predict(np.array(X_test))\n",
    "# pd_test_pred = pd.DataFrame({'Id': Id_test, '공급량': np.expm1(pred)})\n",
    "# pd_test_pred.to_csv('submission.csv', index=False)\n"
   ]
  },
  {
   "cell_type": "code",
   "execution_count": 54,
   "metadata": {
    "id": "uh-XFLe33zEn"
   },
   "outputs": [],
   "source": []
  },
  {
   "cell_type": "code",
   "execution_count": 55,
   "metadata": {
    "colab": {
     "base_uri": "https://localhost:8080/"
    },
    "id": "6qpKhpPdpSvc",
    "outputId": "6f494271-d31f-4327-f5ab-5cc47917f4ef"
   },
   "outputs": [
    {
     "data": {
      "text/plain": [
       "array([1884.3696 , 1673.61   , 1611.3892 , ...,  351.09387,  324.2883 ,\n",
       "        300.8302 ], dtype=float32)"
      ]
     },
     "execution_count": 55,
     "metadata": {},
     "output_type": "execute_result"
    }
   ],
   "source": [
    "np.expm1(pred)"
   ]
  },
  {
   "cell_type": "code",
   "execution_count": 56,
   "metadata": {
    "id": "nhbZ4Mrg2Vci"
   },
   "outputs": [],
   "source": [
    "sub['공급량'] = np.expm1(pred)\n",
    "sub.to_csv('electric_baseline.csv', index=False)"
   ]
  },
  {
   "cell_type": "code",
   "execution_count": 57,
   "metadata": {
    "id": "4KoAtAeq4Epc"
   },
   "outputs": [],
   "source": [
    "# gb, xgboost, lightgb, rf, ridge"
   ]
  },
  {
   "cell_type": "code",
   "execution_count": 58,
   "metadata": {
    "colab": {
     "base_uri": "https://localhost:8080/"
    },
    "id": "7s5d95lP3-fZ",
    "outputId": "28ca04d8-7392-4a43-ebbd-fdece97c314d"
   },
   "outputs": [
    {
     "name": "stdout",
     "output_type": "stream",
     "text": [
      "[01:03:37] WARNING: /workspace/src/objective/regression_obj.cu:152: reg:linear is now deprecated in favor of reg:squarederror.\n"
     ]
    }
   ],
   "source": [
    "\n",
    "xgboost_model = xgboost.fit(X_train, y_train)\n",
    "lightgb_model = lightgb.fit(X_train, y_train)\n",
    "rf_model = rf.fit(X_train, y_train)\n",
    "ridge_model = ridge.fit(X_train, y_train)\n"
   ]
  },
  {
   "cell_type": "code",
   "execution_count": 59,
   "metadata": {
    "id": "4oOGSJJw6DDK"
   },
   "outputs": [],
   "source": [
    "from sklearn.svm import SVR"
   ]
  },
  {
   "cell_type": "code",
   "execution_count": 60,
   "metadata": {
    "id": "0CKjdOGp3_tc"
   },
   "outputs": [],
   "source": [
    "# 블랜딩은 오버피팅에 조금더 견고한 결과물을 만들어 낸다고 한다.\n",
    "def blended_predictions(X):\n",
    "    return ((0.13 * ridge_model.predict(X)) + \\\n",
    "            (0.2 * xgboost_model.predict(X)) + \\\n",
    "            (0.17 * lightgb_model.predict(X)) + \\\n",
    "            (0.5 * stack_model.predict(np.array(X))))"
   ]
  },
  {
   "cell_type": "code",
   "execution_count": 61,
   "metadata": {
    "id": "otk1TNZG4NvH"
   },
   "outputs": [],
   "source": [
    "pred = blended_predictions(X_test)\n",
    "sub['공급량'] = np.expm1(pred)\n",
    "sub.to_csv('electric_baseline.csv', index=False)"
   ]
  },
  {
   "cell_type": "code",
   "execution_count": 70,
   "metadata": {
    "colab": {
     "base_uri": "https://localhost:8080/"
    },
    "id": "WMEL-cowYCVB",
    "outputId": "ce16a1c1-6849-42cc-b809-cac910722cfe"
   },
   "outputs": [
    {
     "data": {
      "text/plain": [
       "0        1751.944100\n",
       "1        1596.859855\n",
       "2        1541.437858\n",
       "3        1556.398265\n",
       "4        1706.270308\n",
       "            ...     \n",
       "15115     384.304554\n",
       "15116     394.137106\n",
       "15117     390.937408\n",
       "15118     366.258761\n",
       "15119     343.798108\n",
       "Name: 공급량, Length: 15120, dtype: float64"
      ]
     },
     "execution_count": 70,
     "metadata": {},
     "output_type": "execute_result"
    }
   ],
   "source": [
    "sub['공급량']"
   ]
  },
  {
   "cell_type": "code",
   "execution_count": 62,
   "metadata": {
    "id": "k24gn2xXUQyW"
   },
   "outputs": [],
   "source": [
    "# from sklearn.model_selection import KFold\n",
    "# from sklearn.metrics import mean_absolute_error\n",
    "\n",
    "# # 개별 기반 모델에서 최종 메타 모델이 사용할 학습 및 테스트용 데이터를 생성하기 위한 함수. \n",
    "# def get_stacking_base_datasets(model, X_train_n, y_train_n, X_test_n, n_folds=7 ):\n",
    "#     # 지정된 n_folds값으로 KFold 생성.\n",
    "#     kf = KFold(n_splits=n_folds, shuffle=False, random_state=0)\n",
    "#     #추후에 메타 모델이 사용할 학습 데이터 반환을 위한 넘파이 배열 초기화 \n",
    "#     train_fold_pred = np.zeros((X_train_n.shape[0] ,1 ))\n",
    "#     test_pred = np.zeros((X_test_n.shape[0],n_folds))\n",
    "#     print(model.__class__.__name__ , ' model 시작 ')\n",
    "    \n",
    "#     for folder_counter , (train_index, valid_index) in enumerate(kf.split(X_train_n)):\n",
    "#         #입력된 학습 데이터에서 기반 모델이 학습/예측할 폴드 데이터 셋 추출 \n",
    "#         print('\\t 폴드 세트: ',folder_counter,' 시작 ')\n",
    "#         X_tr = X_train_n.iloc[train_index] \n",
    "#         y_tr = y_train_n.iloc[train_index] \n",
    "#         X_te = X_train_n.iloc[valid_index]  \n",
    "        \n",
    "#         #폴드 세트 내부에서 다시 만들어진 학습 데이터로 기반 모델의 학습 수행.\n",
    "#         model.fit(X_tr , y_tr)       \n",
    "#         #폴드 세트 내부에서 다시 만들어진 검증 데이터로 기반 모델 예측 후 데이터 저장.\n",
    "#         train_fold_pred[valid_index, :] = model.predict(X_te).reshape(-1,1)\n",
    "#         #입력된 원본 테스트 데이터를 폴드 세트내 학습된 기반 모델에서 예측 후 데이터 저장. \n",
    "#         test_pred[:, folder_counter] = model.predict(X_test_n)\n",
    "            \n",
    "#     # 폴드 세트 내에서 원본 테스트 데이터를 예측한 데이터를 평균하여 테스트 데이터로 생성 \n",
    "#     test_pred_mean = np.mean(test_pred, axis=1).reshape(-1,1)    \n",
    "    \n",
    "#     #train_fold_pred는 최종 메타 모델이 사용하는 학습 데이터, test_pred_mean은 테스트 데이터\n",
    "#     return train_fold_pred , test_pred_mean"
   ]
  },
  {
   "cell_type": "code",
   "execution_count": 63,
   "metadata": {
    "id": "SZw2oGTmUSdZ"
   },
   "outputs": [],
   "source": [
    "# # CV스태킹 알고리즘 각 모델에 적용\n",
    "\n",
    "# gb_train, gb_test = get_stacking_base_datasets(gb, X_train, y_train, X_test, 5)\n",
    "# rf_train, rf_test = get_stacking_base_datasets(rf, X_train, y_train, X_test, 5)\n"
   ]
  },
  {
   "cell_type": "code",
   "execution_count": 64,
   "metadata": {
    "id": "2Rtsl0qgJNYc"
   },
   "outputs": [],
   "source": [
    "# xgb_train, xgb_test = get_stacking_base_datasets(xgboost, X_train, y_train, X_test,  5)    \n",
    "# ridge_train, ridge_test = get_stacking_base_datasets(ridge, X_train, y_train, X_test,  5)  \n",
    "\n",
    "\n",
    "\n",
    "# # CV스태킹 알고리즘 결과로 메타 모델 학습/시험에 필요한 result_a result_b 만들기 \n",
    "# Stack_final_X_train = np.concatenate((gb_train,rf_train,xgb_train, ridge_train), axis=1)\n",
    "# Stack_final_X_test = np.concatenate((gb_test,rf_test,xgb_test,ridge_test), axis=1)\n",
    "\n"
   ]
  },
  {
   "cell_type": "code",
   "execution_count": 65,
   "metadata": {
    "id": "RPsTmK3v31h9"
   },
   "outputs": [],
   "source": [
    "# Stack_final_X_train.shape"
   ]
  },
  {
   "cell_type": "code",
   "execution_count": 66,
   "metadata": {
    "id": "aeUFEUWsmaYV"
   },
   "outputs": [],
   "source": [
    "# # 메타 모델 학습\n",
    "# LGBM.fit(Stack_final_X_train, y_train)\n",
    "\n",
    "# stack_final = LGBM.predict(Stack_final_X_test)\n",
    "# stack_final\n"
   ]
  },
  {
   "cell_type": "code",
   "execution_count": 67,
   "metadata": {
    "id": "N5tSo9M_JNWN"
   },
   "outputs": [],
   "source": [
    "# from mlxtend.regressor import StackingCVRegressor"
   ]
  },
  {
   "cell_type": "code",
   "execution_count": 68,
   "metadata": {
    "id": "q-gKWxyfLrjC"
   },
   "outputs": [],
   "source": [
    "# # 6개 모델 위에 xgboost 모델을 하나 더올려 stacking을 한다.\n",
    "# stack = StackingCVRegressor(regressors=(gb, xgboost, lightgb, lasso, ridge),#svr\n",
    "#                                 meta_regressor=xgboost,\n",
    "#                                 use_features_in_secondary=True,\n",
    "#                                 )"
   ]
  },
  {
   "cell_type": "code",
   "execution_count": 69,
   "metadata": {
    "colab": {
     "base_uri": "https://localhost:8080/",
     "height": 187
    },
    "id": "hnlVBskKJNUG",
    "outputId": "518bddaf-37da-4aeb-e4b0-698f2e94e920"
   },
   "outputs": [
    {
     "ename": "NameError",
     "evalue": "ignored",
     "output_type": "error",
     "traceback": [
      "\u001b[0;31m---------------------------------------------------------------------------\u001b[0m",
      "\u001b[0;31mNameError\u001b[0m                                 Traceback (most recent call last)",
      "\u001b[0;32m<ipython-input-69-363ce6dea900>\u001b[0m in \u001b[0;36m<module>\u001b[0;34m()\u001b[0m\n\u001b[1;32m      1\u001b[0m \u001b[0;31m# score = rmsle_cv(stack)\u001b[0m\u001b[0;34m\u001b[0m\u001b[0;34m\u001b[0m\u001b[0;34m\u001b[0m\u001b[0m\n\u001b[0;32m----> 2\u001b[0;31m \u001b[0mprint\u001b[0m\u001b[0;34m(\u001b[0m\u001b[0;34m\"stack score: {:.4f} ({:.4f})\"\u001b[0m\u001b[0;34m.\u001b[0m\u001b[0mformat\u001b[0m\u001b[0;34m(\u001b[0m\u001b[0mscore\u001b[0m\u001b[0;34m.\u001b[0m\u001b[0mmean\u001b[0m\u001b[0;34m(\u001b[0m\u001b[0;34m)\u001b[0m\u001b[0;34m,\u001b[0m \u001b[0mscore\u001b[0m\u001b[0;34m.\u001b[0m\u001b[0mstd\u001b[0m\u001b[0;34m(\u001b[0m\u001b[0;34m)\u001b[0m\u001b[0;34m)\u001b[0m\u001b[0;34m)\u001b[0m\u001b[0;34m\u001b[0m\u001b[0;34m\u001b[0m\u001b[0m\n\u001b[0m",
      "\u001b[0;31mNameError\u001b[0m: name 'score' is not defined"
     ]
    }
   ],
   "source": [
    "# score = rmsle_cv(stack)\n",
    "print(\"stack score: {:.4f} ({:.4f})\".format(score.mean(), score.std()))"
   ]
  },
  {
   "cell_type": "code",
   "execution_count": null,
   "metadata": {
    "id": "W2GN8NhTNJ3h"
   },
   "outputs": [],
   "source": [
    "# stack_model = stack.fit(np.array(X_train), y_train)"
   ]
  },
  {
   "cell_type": "code",
   "execution_count": null,
   "metadata": {
    "id": "EIelvr6NLy0M"
   },
   "outputs": [],
   "source": [
    "# pred = stack_model.predict(np.array(X_test))\n",
    "# # pd_test_pred = pd.DataFrame({'Id': Id_test, 'SalePrice': np.expm1(pred)})\n",
    "# pd_test_pred.to_csv('submission.csv', index=False)"
   ]
  },
  {
   "cell_type": "code",
   "execution_count": null,
   "metadata": {
    "id": "pQuhpmCuJNRz"
   },
   "outputs": [],
   "source": []
  },
  {
   "cell_type": "code",
   "execution_count": null,
   "metadata": {
    "id": "3wNd7yNIJNPq"
   },
   "outputs": [],
   "source": []
  },
  {
   "cell_type": "code",
   "execution_count": null,
   "metadata": {
    "id": "N60DC-mur1lE"
   },
   "outputs": [],
   "source": []
  },
  {
   "cell_type": "code",
   "execution_count": null,
   "metadata": {
    "id": "bmn3dG_IwoCz"
   },
   "outputs": [],
   "source": [
    "# test_x = test[features]\n",
    "# test_x"
   ]
  },
  {
   "cell_type": "code",
   "execution_count": null,
   "metadata": {
    "id": "JV9S_UrPhxZc"
   },
   "outputs": [],
   "source": [
    "# preds = LGBM.predict(test_x)"
   ]
  },
  {
   "cell_type": "code",
   "execution_count": null,
   "metadata": {
    "id": "SBJb9B5Ti4KC"
   },
   "outputs": [],
   "source": [
    "# preds"
   ]
  },
  {
   "cell_type": "code",
   "execution_count": null,
   "metadata": {
    "id": "kIKhDtbMiTkp"
   },
   "outputs": [],
   "source": [
    "# stack_final"
   ]
  },
  {
   "cell_type": "code",
   "execution_count": null,
   "metadata": {
    "id": "9PORQsNK-oFD"
   },
   "outputs": [],
   "source": []
  },
  {
   "cell_type": "code",
   "execution_count": null,
   "metadata": {
    "id": "MYZKUuUA-_sq"
   },
   "outputs": [],
   "source": [
    "# sub['공급량']"
   ]
  },
  {
   "cell_type": "code",
   "execution_count": null,
   "metadata": {
    "id": "2x-t2nVD_BO0"
   },
   "outputs": [],
   "source": []
  },
  {
   "cell_type": "code",
   "execution_count": null,
   "metadata": {
    "id": "KjxxaoUM_YgQ"
   },
   "outputs": [],
   "source": []
  },
  {
   "cell_type": "code",
   "execution_count": null,
   "metadata": {
    "id": "cuFF99_z9Ysg"
   },
   "outputs": [],
   "source": []
  }
 ],
 "metadata": {
  "colab": {
   "collapsed_sections": [],
   "name": "가스수요예측 기온데이터.ipynb",
   "provenance": []
  },
  "kernelspec": {
   "display_name": "Python 3",
   "language": "python",
   "name": "python3"
  },
  "language_info": {
   "codemirror_mode": {
    "name": "ipython",
    "version": 3
   },
   "file_extension": ".py",
   "mimetype": "text/x-python",
   "name": "python",
   "nbconvert_exporter": "python",
   "pygments_lexer": "ipython3",
   "version": "3.8.8"
  }
 },
 "nbformat": 4,
 "nbformat_minor": 1
}
