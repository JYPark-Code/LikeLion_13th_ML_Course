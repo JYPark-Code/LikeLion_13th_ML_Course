{
 "cells": [
  {
   "cell_type": "markdown",
   "id": "afccab40",
   "metadata": {},
   "source": [
    "# 비선형 변환"
   ]
  },
  {
   "cell_type": "code",
   "execution_count": 4,
   "id": "0f235a0c",
   "metadata": {},
   "outputs": [],
   "source": [
    "import os, warnings\n",
    "\n",
    "warnings.filterwarnings(action=\"ignore\")"
   ]
  },
  {
   "cell_type": "code",
   "execution_count": 1,
   "id": "4341b8cc",
   "metadata": {},
   "outputs": [],
   "source": [
    "# 한글\n",
    "import matplotlib\n",
    "from matplotlib import font_manager, rc\n",
    "font_loc = \"C:/Windows/Fonts/malgunbd.ttf\"\n",
    "font_name = font_manager.FontProperties(fname=font_loc).get_name()\n",
    "matplotlib.rc('font', family=font_name)\n",
    "\n",
    "matplotlib.rcParams['axes.unicode_minus'] = False"
   ]
  },
  {
   "cell_type": "code",
   "execution_count": 5,
   "id": "9c027ef6",
   "metadata": {},
   "outputs": [],
   "source": [
    "import numpy as np\n",
    "import matplotlib.pyplot as plt"
   ]
  },
  {
   "cell_type": "code",
   "execution_count": 7,
   "id": "330b5a1b",
   "metadata": {},
   "outputs": [
    {
     "name": "stdout",
     "output_type": "stream",
     "text": [
      "(1000, 3)\n"
     ]
    }
   ],
   "source": [
    "rnd = np.random.RandomState(0)\n",
    "X_org = rnd.normal(size=(1000,3))\n",
    "print(X_org.shape)"
   ]
  },
  {
   "cell_type": "code",
   "execution_count": 11,
   "id": "dbda6ed3",
   "metadata": {},
   "outputs": [],
   "source": [
    "w = rnd.normal(size=3)\n",
    "y = np.dot(X_org, w)"
   ]
  },
  {
   "cell_type": "code",
   "execution_count": 17,
   "id": "4e212476",
   "metadata": {},
   "outputs": [],
   "source": [
    "X = rnd.poisson(10 * np.exp(X_org))"
   ]
  },
  {
   "cell_type": "code",
   "execution_count": 12,
   "id": "72e45ca2",
   "metadata": {},
   "outputs": [
    {
     "name": "stdout",
     "output_type": "stream",
     "text": [
      "(1000,)\n"
     ]
    }
   ],
   "source": [
    "print(y.shape)"
   ]
  },
  {
   "cell_type": "code",
   "execution_count": 14,
   "id": "07db9526",
   "metadata": {},
   "outputs": [
    {
     "data": {
      "text/plain": [
       "array([-1.30789783e+00,  1.87255564e+00,  2.23937701e-01, -2.17660898e+00,\n",
       "       -6.02406677e-01,  4.91009476e-01,  3.84942162e+00,  1.27763647e+00,\n",
       "       -2.11322293e-02, -2.11259035e+00,  1.40966662e+00, -4.42768388e-01,\n",
       "        8.17277160e-01,  2.04348122e+00,  8.28567947e-01, -1.35194173e+00,\n",
       "        1.21187566e+00,  1.78929397e+00, -6.16293431e-02,  5.17938466e-01,\n",
       "        1.15153843e+00,  4.85442451e-01,  1.29575774e+00, -1.20507228e-01,\n",
       "       -6.41462646e-01,  7.41038494e-01,  1.76242069e+00,  2.47449440e+00,\n",
       "       -1.48888876e+00, -1.73575635e+00, -2.31623020e-01, -9.62800722e-01,\n",
       "       -1.58037644e-02,  2.28439912e+00,  1.78366897e+00,  1.26864237e+00,\n",
       "       -2.54738460e+00, -2.93195857e+00, -1.39294542e+00, -1.36370653e+00,\n",
       "       -5.33701559e-01,  2.73055554e-01, -8.82265763e-01, -8.67192987e-01,\n",
       "        9.18912398e-01,  4.33818943e-01,  2.20762934e+00, -9.17959149e-01,\n",
       "        1.69425178e+00,  6.70907280e-01,  1.30445999e+00,  9.35286284e-01,\n",
       "        1.74501384e+00, -3.04021377e+00,  1.96531660e+00,  2.33699246e+00,\n",
       "       -1.27668781e+00,  1.10883050e+00,  1.20930550e+00, -1.30829725e-01,\n",
       "        8.18253501e-01,  2.32474638e+00,  1.04302197e+00, -4.05744834e-01,\n",
       "       -9.20418895e-01, -1.19836065e+00,  8.82377416e-01, -9.14034660e-01,\n",
       "       -6.89541605e-02,  1.15142205e-01, -1.09443279e+00,  4.93966569e-01,\n",
       "       -3.42189000e+00,  4.30920844e-01,  2.36671603e+00, -3.34426627e-01,\n",
       "        2.10511338e+00, -7.32842116e-01, -2.30838158e+00, -1.17017850e+00,\n",
       "        1.09548470e-01,  2.50920853e+00,  1.45052561e+00,  8.08099276e-01,\n",
       "       -1.07812684e+00,  2.10448816e+00,  1.74542285e+00, -2.20337678e-02,\n",
       "       -9.48180207e-01, -1.72452987e-01, -3.23538810e+00,  5.66792290e-01,\n",
       "        3.13874811e+00, -1.39647976e+00, -3.44531674e-01, -1.90581432e+00,\n",
       "        1.14960193e+00,  1.81052861e+00, -4.81374871e-02, -5.56429267e-01,\n",
       "        2.34333676e-01,  7.13451378e-01, -1.30954276e+00, -1.67650910e+00,\n",
       "        4.20393053e-01,  4.42965143e-01,  1.08551585e+00,  1.32163231e+00,\n",
       "        1.11611465e-01, -1.32144140e+00, -1.23806111e+00, -1.29335157e+00,\n",
       "        9.42096799e-01,  9.41673982e-01,  4.95537429e-01, -3.00013051e-01,\n",
       "        1.25369489e+00,  1.06837116e+00,  2.71360481e+00, -1.03796734e+00,\n",
       "       -1.36638208e+00, -2.18895525e-01,  3.54286876e-01,  1.45180733e+00,\n",
       "       -2.88082585e-02,  2.51008216e+00,  2.66901842e+00,  1.37382957e+00,\n",
       "        1.34701819e+00, -2.12986545e-01,  5.67192532e-01,  9.98728713e-01,\n",
       "       -2.05817837e+00,  1.72117294e+00,  2.80773703e+00,  2.10944530e-02,\n",
       "        2.11801519e+00,  3.94842553e-01, -3.51817369e-01, -2.46879928e+00,\n",
       "        3.34316212e+00, -1.46194219e-01,  6.79411237e-01,  2.14533484e+00,\n",
       "        1.58799696e+00,  1.00421651e-01,  6.80974894e-01, -4.04774919e-01,\n",
       "       -6.36904973e-01,  8.91745114e-03, -7.17233928e-01, -3.03595395e+00,\n",
       "       -5.63895664e-01,  1.44244603e+00,  7.50206399e-01,  1.32413095e+00,\n",
       "        2.91623707e+00,  1.01292355e+00, -1.77198429e+00, -7.22208518e-01,\n",
       "        1.55908098e+00,  4.11432056e+00,  2.53963829e-01,  4.52029632e-01,\n",
       "       -3.90403034e+00,  7.15317949e-01, -6.80347640e-01,  4.64576249e-01,\n",
       "        2.41152500e+00, -2.24287741e+00,  2.25212970e+00, -5.02565780e-01,\n",
       "       -2.88416978e-01,  1.52400898e+00, -6.02301164e-01, -2.14436462e+00,\n",
       "        3.31186677e+00,  5.67380832e-02,  2.33177239e-01,  1.32479123e-01,\n",
       "        2.68480413e-01,  7.70536196e-01, -1.97075741e+00, -1.85004350e-01,\n",
       "        1.09154031e+00, -1.55529992e-01, -3.26909340e+00,  2.74248139e+00,\n",
       "       -5.85608695e-01, -7.53192232e-01, -1.99871910e-01,  6.81040886e-01,\n",
       "        2.07268718e-02,  9.12586737e-01,  8.29306261e-01, -7.43418774e-01,\n",
       "       -1.16790777e+00,  1.67484640e+00,  7.87134476e-01,  1.62396442e-01,\n",
       "        1.35477833e+00,  7.83667098e-01, -3.50776786e-01,  1.78921271e+00,\n",
       "        3.42527507e-01, -4.47764333e-01, -1.07559711e+00,  4.07764832e-01,\n",
       "       -4.34515076e-01,  1.38991308e-01, -7.83795469e-01, -6.93925477e-01,\n",
       "       -1.30875642e+00, -1.98631340e+00,  1.85333714e+00,  1.86943544e-01,\n",
       "       -3.36021172e-01, -9.62286509e-01,  1.66918129e-01,  1.29812213e+00,\n",
       "       -8.97682484e-01,  9.57675588e-01,  3.17298394e+00,  2.86245163e+00,\n",
       "       -5.92611838e-01, -1.61651464e+00,  1.06590325e+00, -1.15670530e+00,\n",
       "       -3.57777698e+00, -3.78489517e+00,  2.42215108e+00, -1.87403232e+00,\n",
       "       -4.11534928e-01,  1.80145571e+00, -3.17826605e-01,  3.28592110e-01,\n",
       "        1.20784267e+00,  4.33225947e-01,  1.33242854e+00,  9.07730197e-01,\n",
       "       -3.65235403e-01,  1.16581184e+00, -1.19980147e+00,  1.24848543e+00,\n",
       "       -3.97010268e+00,  1.83081201e+00,  1.69537335e+00,  2.80833779e-01,\n",
       "       -2.58614683e-02, -5.84687557e-01, -7.85340162e-01, -1.11413061e+00,\n",
       "       -7.40413747e-02, -5.85126108e-01, -1.03792563e+00, -1.33645878e-01,\n",
       "        9.00192514e-01, -3.84592010e-01, -1.19545714e-01, -8.66135065e-02,\n",
       "       -7.57825217e-01, -2.94171207e-01,  2.16842351e+00, -2.21902409e-03,\n",
       "        1.36873976e+00,  1.57940373e+00, -2.27868325e+00,  6.60081241e-01,\n",
       "       -6.41825257e-01,  2.06212080e-03, -1.53000592e+00, -2.66648882e+00,\n",
       "        1.41527752e+00, -1.67511435e-02,  8.91832709e-01, -3.34637940e+00,\n",
       "       -4.31059997e-01,  1.94643900e-01,  1.38907643e+00, -4.57698710e-01,\n",
       "       -1.50492040e+00,  5.18003795e-01,  1.15831539e+00,  1.51226543e+00,\n",
       "        1.41635905e+00,  4.20959294e-01, -1.80972015e+00, -1.35426134e-01,\n",
       "        9.39766197e-02, -1.43494427e+00,  3.98812980e-01,  1.61898988e+00,\n",
       "       -1.82353706e-01,  1.45535905e+00,  1.15048156e+00,  8.21967092e-01,\n",
       "        9.34017956e-01,  4.01105480e-01,  1.38846672e+00,  7.44936944e-01,\n",
       "       -7.55135603e-01, -2.85834641e+00, -1.63270283e+00,  2.17695417e+00,\n",
       "        1.76178557e+00,  4.80960808e-01,  2.00268038e+00, -7.37611195e-02,\n",
       "        6.59570540e-01, -2.23792144e+00, -3.61856811e-01,  1.13765968e+00,\n",
       "        1.29403753e+00, -1.99541980e+00,  4.29644891e-01, -2.14705289e+00,\n",
       "        1.48192907e+00,  7.88300961e-01, -1.25215091e+00,  2.12260575e+00,\n",
       "       -3.92081761e-01,  1.35932699e-01, -8.99720164e-01, -1.48048148e+00,\n",
       "       -2.92541019e+00,  1.25597326e+00, -6.00485526e-01, -1.67774692e+00,\n",
       "        5.84444751e-01,  6.63406845e-01,  1.27898404e+00, -5.82674094e-01,\n",
       "        1.74900272e+00, -1.34129026e+00, -3.74654673e-01,  2.85372062e+00,\n",
       "        1.55068207e+00, -2.23419856e+00, -5.00843796e-01, -2.70545535e-01,\n",
       "        7.95284616e-01,  1.28910049e+00, -1.90715787e+00, -3.29922658e-01,\n",
       "       -1.23913175e+00, -9.85076592e-01, -2.69721985e+00, -1.62036997e+00,\n",
       "       -5.02859074e-01,  1.25959754e+00,  8.85949758e-02,  1.14651283e-01,\n",
       "        4.71196156e-01,  1.86346523e+00, -1.40399735e-01,  1.42195950e-02,\n",
       "        1.64434231e+00,  2.06492960e+00, -8.28460625e-01, -6.77391523e-01,\n",
       "       -9.79328926e-01,  1.10055895e+00, -1.21107649e+00,  2.70737800e-01,\n",
       "       -3.50279366e+00,  1.65287034e-01,  1.78636887e+00,  1.37194258e+00,\n",
       "       -4.90654350e-01, -5.93780926e-01, -9.57825059e-01, -2.58540441e+00,\n",
       "       -2.00385314e+00, -1.63275329e+00, -1.55672421e+00,  3.34042067e-01,\n",
       "        1.53073972e+00, -7.27038614e-01, -3.70371701e-01, -7.78342121e-02,\n",
       "       -2.57743800e+00,  3.86939079e-01, -1.89727974e+00,  2.32331977e+00,\n",
       "       -2.95621911e-01, -3.32960250e-01,  6.84127403e-01, -8.23684074e-01,\n",
       "       -2.39384634e+00, -1.87251723e-01, -1.27819550e+00,  2.85809935e-01,\n",
       "        1.01788981e+00,  2.96605683e-01,  2.83556560e+00, -1.60463391e+00,\n",
       "        4.64147148e-01,  8.59229194e-01,  1.93111590e-01, -1.15325611e+00,\n",
       "       -2.69730859e+00,  1.80078095e+00, -1.99694589e+00, -5.13529203e-01,\n",
       "        7.98886632e-01, -7.79633558e-01, -5.38572577e-01,  7.43422442e-01,\n",
       "       -4.43250049e-01, -5.49099425e-01,  1.32731858e+00,  2.42672724e+00,\n",
       "        9.45414887e-01, -4.21386431e-02, -5.88377330e-01,  6.93184995e-01,\n",
       "        9.96387423e-01, -7.89888266e-01,  4.09643896e+00,  7.26033794e-01,\n",
       "        4.06855734e-01, -3.27119828e-01,  2.26590463e+00, -2.19747511e+00,\n",
       "       -5.90829483e-01,  2.18380802e+00,  7.17286399e-02, -7.29647115e-01,\n",
       "       -9.84743901e-01, -2.44867604e+00, -2.88814149e-01,  9.38268590e-01,\n",
       "       -1.95485605e-01,  3.81597283e-01,  1.47855957e+00,  5.62176750e-01,\n",
       "       -9.11236731e-01,  4.56582199e-01,  1.24075499e+00,  1.93404939e+00,\n",
       "        4.95694079e-01,  2.52213545e-01, -1.64395445e+00,  1.29190761e+00,\n",
       "        9.59952402e-01, -2.50832901e+00,  7.66496770e-01,  9.54474955e-01,\n",
       "       -7.19971758e-01, -7.46784696e-01, -6.42357747e-01,  6.43403603e-01,\n",
       "        2.72581148e+00, -2.37044320e+00,  1.93905474e+00, -6.64584910e-01,\n",
       "       -1.04519082e+00, -2.37188931e+00,  2.80104172e+00, -1.69138200e-02,\n",
       "       -1.24984319e+00, -1.62808774e+00,  7.71273361e-01,  9.06467617e-01,\n",
       "        1.76844940e-01,  2.96370183e+00,  7.41985088e-01, -3.04133271e+00,\n",
       "       -1.65606770e+00,  6.27399535e-01,  3.50979631e-01,  2.56356093e+00,\n",
       "        4.28982666e+00,  1.59817495e+00,  4.10733410e-02, -1.41733760e+00,\n",
       "       -1.16836129e+00, -1.11962772e+00, -1.18641730e+00, -1.90104811e+00,\n",
       "       -1.43062087e+00, -9.87708681e-01, -2.93526981e+00, -1.00959429e+00,\n",
       "        9.13844435e-02,  1.36263315e+00, -2.91903499e+00,  5.99688531e-01,\n",
       "       -1.58922168e-01, -4.51572013e-01, -3.87385311e-01,  4.67825786e-01,\n",
       "       -8.94980203e-01,  1.19154763e+00, -1.11404066e+00, -1.25106367e+00,\n",
       "        1.73741498e+00, -8.47942851e-01,  3.13383310e-01,  4.64852565e-02,\n",
       "       -5.29964888e-01, -9.78611376e-01, -1.59294853e+00, -2.09652677e+00,\n",
       "       -1.50843659e+00,  1.71064947e-01, -2.08115495e+00, -2.79659972e+00,\n",
       "        3.84940412e-01, -2.83172653e-01,  1.80531206e+00,  1.76890022e+00,\n",
       "       -2.85309897e+00,  1.53482371e-01,  5.10234628e-01,  1.97037994e-01,\n",
       "       -3.77804708e-01, -8.32659859e-01,  2.64209616e-01, -2.69985300e-01,\n",
       "        1.80650240e+00, -7.67598963e-02, -1.29781567e+00, -3.02183698e-01,\n",
       "       -3.13064038e+00, -1.83133724e+00, -1.07435988e+00,  4.01658867e+00,\n",
       "        5.09724702e-01, -5.45527639e-01, -4.67922803e-01, -1.39735978e+00,\n",
       "        2.17454278e+00,  2.26566531e-01,  2.20233587e+00,  3.24344394e-01,\n",
       "       -1.57827374e+00,  1.63752049e+00, -4.62022069e-01, -5.69653449e-01,\n",
       "        1.04652478e+00,  8.09772867e-01,  2.07578857e+00,  4.67318451e-01,\n",
       "        5.86299930e-01, -1.11261062e+00, -3.94300356e-01,  1.03927586e+00,\n",
       "        2.44929517e+00, -1.72488862e+00,  2.64426404e+00,  1.43482137e+00,\n",
       "       -2.13987566e+00, -4.09945452e-01, -6.46220923e-01,  1.31409152e+00,\n",
       "        1.45849889e+00, -9.86722439e-01,  1.67189880e+00, -7.88874909e-01,\n",
       "       -6.97243828e-02,  4.15618401e-01, -1.86915827e+00, -2.51215284e+00,\n",
       "        5.75602858e-02, -2.70405736e-01,  2.45030919e+00,  1.07486001e+00,\n",
       "        5.99962251e-02, -1.33396246e+00,  1.71699132e+00,  1.35678838e+00,\n",
       "       -4.90855373e-01,  2.06261317e+00,  1.04973860e+00,  4.70073557e-01,\n",
       "        1.48590666e+00, -2.22687552e+00, -3.50072412e-01,  1.50157204e-01,\n",
       "       -1.40075973e+00,  2.39691000e+00, -3.37401842e+00, -2.18045601e+00,\n",
       "       -1.38882021e+00, -5.54484560e-02, -5.92579411e-01,  1.04844076e+00,\n",
       "       -1.38719724e+00, -2.78710982e+00,  1.98252279e-01, -1.28028466e+00,\n",
       "        1.44672788e+00, -2.82990736e+00,  7.41970623e-01, -1.92030052e+00,\n",
       "        3.70493869e-01, -1.11241279e-01, -1.86355690e-01, -4.48709133e-01,\n",
       "       -2.14917638e+00,  1.05832423e+00,  4.01824964e-01,  3.40902336e-01,\n",
       "        1.17685735e+00,  1.28128186e+00,  9.94370309e-01,  5.15712263e-01,\n",
       "       -2.56423248e-01,  1.43328958e-02,  3.55397176e-01,  1.39406835e+00,\n",
       "        3.38396069e-01, -8.42481338e-01,  2.11582301e+00,  1.98726069e+00,\n",
       "        8.19234919e-02, -1.56846509e-01, -2.21644035e+00,  1.51657091e-01,\n",
       "        8.57066893e-01,  4.26048228e-01,  7.30073691e-02,  3.91167424e-01,\n",
       "       -6.47469950e-01,  6.90689641e-01, -5.49063015e-01, -2.63091555e+00,\n",
       "        2.47050659e+00, -1.11815814e+00,  5.78038650e-01,  4.52541073e-01,\n",
       "       -4.77349874e-01,  2.55540655e-01, -1.92576940e-01,  4.67280984e-01,\n",
       "       -1.99464228e+00,  3.27759980e-01, -2.14322272e+00, -5.64035358e-01,\n",
       "        1.92660788e-01, -1.90577478e+00, -1.44011523e+00,  1.76477739e+00,\n",
       "       -1.01688780e+00,  1.38153162e+00, -1.34395912e+00,  6.94948514e-01,\n",
       "        4.69158059e-02,  1.62361678e+00,  3.19320793e+00, -2.38805025e-01,\n",
       "       -1.46532384e+00, -2.27682052e+00, -1.49544418e+00, -1.74524186e+00,\n",
       "       -1.94458541e+00, -5.54122312e-01, -1.21672101e+00,  1.64648633e+00,\n",
       "        1.77657569e-01,  2.19620100e+00,  1.95989534e+00,  1.26848396e+00,\n",
       "       -2.22838920e-01, -9.48256695e-02,  2.11862455e+00,  1.32554052e+00,\n",
       "        1.10290651e+00, -1.39320609e+00, -1.05191919e+00,  1.00994743e+00,\n",
       "        4.87318090e+00, -1.15098503e+00,  2.55783320e-01, -1.71239307e+00,\n",
       "       -1.14722493e+00, -2.07356937e+00,  6.31249309e-01, -8.55112067e-01,\n",
       "        1.04858893e+00, -1.42994884e-01,  2.68217576e+00, -7.08035574e-01,\n",
       "       -1.20613810e-01,  9.21773935e-01, -4.40763679e+00,  2.49910720e+00,\n",
       "        1.68408158e+00, -2.02965545e+00, -6.37057576e-01, -6.91061038e-01,\n",
       "       -2.59865385e+00, -9.77961416e-02, -6.83403647e-01, -2.15443601e+00,\n",
       "       -2.49221590e+00,  1.54072190e-01, -7.65930664e-01, -2.38523282e+00,\n",
       "       -5.89702941e-01, -2.52982524e+00,  7.74097199e-01, -2.04824177e+00,\n",
       "        4.17221623e+00, -2.24926884e+00, -2.00003556e+00,  2.00001030e+00,\n",
       "        2.46367670e-01, -1.01080400e+00, -3.00258804e+00,  8.05946244e-01,\n",
       "        9.02137829e-01, -8.75488285e-01,  3.53050443e+00, -1.50326219e+00,\n",
       "        2.05916913e+00, -1.78095800e+00,  1.32414902e+00,  2.14189393e+00,\n",
       "        9.46093738e-01,  1.62687903e+00,  3.43220398e-01, -3.39865763e+00,\n",
       "       -1.29818492e+00,  1.87571415e+00,  2.67861404e+00,  1.24296160e+00,\n",
       "        3.97007285e-01, -3.93403329e-01, -6.32652473e-01, -1.82246933e+00,\n",
       "        1.80056536e+00,  7.43187590e-01, -1.16405958e+00,  1.47477537e+00,\n",
       "        1.32289498e+00,  5.20835866e-01, -3.04929638e+00,  2.42203498e-01,\n",
       "       -1.01506337e+00, -9.63399753e-01,  1.20996981e+00,  8.90540285e-01,\n",
       "        2.07926629e+00, -3.56000180e-01,  2.53925933e+00, -1.14817363e+00,\n",
       "        1.74189521e-02,  7.85830991e-01,  5.22046146e-01,  1.24069589e+00,\n",
       "       -5.85348733e-01,  1.08918730e+00,  2.73909776e+00,  1.83668926e+00,\n",
       "        8.02198887e-02, -1.38042406e+00,  2.10526987e-01,  1.02694561e+00,\n",
       "        1.92698642e+00,  8.71230105e-01, -1.94237163e-01, -1.36321439e+00,\n",
       "       -3.76495184e+00,  9.87717490e-01,  2.15307898e-01,  2.74265932e-01,\n",
       "        6.98325466e-01,  1.34908825e+00,  6.66891930e-01, -2.23734643e+00,\n",
       "       -1.08310842e+00,  1.70575736e-01, -1.00806113e+00,  2.08724628e+00,\n",
       "        7.26180217e-01,  1.94886749e+00,  9.27465449e-01,  1.13224528e-01,\n",
       "        2.40761748e+00, -6.85797735e-01, -2.77809916e+00,  1.67533107e+00,\n",
       "        2.73584784e+00, -1.17129390e+00,  4.03551673e+00,  1.77822220e+00,\n",
       "       -4.60718345e-01, -2.17848871e+00,  2.93864306e+00,  9.08380470e-01,\n",
       "       -7.34101975e-01, -2.03558016e+00, -6.01509172e-02,  2.25898667e-01,\n",
       "        2.32697574e-01,  4.14338453e-01,  7.57741690e-01,  3.38082841e-01,\n",
       "       -3.63386557e-03, -6.25836335e-01, -9.94225046e-01,  2.77380518e-01,\n",
       "        3.39587513e-01, -1.53964529e+00, -8.05855253e-01,  6.43231670e-01,\n",
       "        7.98504115e-01, -2.75483799e-01,  2.04017730e+00,  3.05380186e+00,\n",
       "       -1.21142324e+00,  1.11179550e+00,  7.21476887e-01,  7.75012698e-01,\n",
       "       -2.79378528e+00,  2.53638343e+00, -2.64357306e+00, -1.75613992e-01,\n",
       "       -6.51398760e-01,  3.20816901e+00,  1.87269147e+00,  4.33586127e-02,\n",
       "        2.08059536e+00,  9.55586800e-01, -9.91153725e-01,  1.46548994e+00,\n",
       "       -1.25561516e+00, -1.07267841e+00, -2.78059037e+00, -1.42423070e+00,\n",
       "       -8.65059985e-01, -1.12055475e+00,  3.72978242e-01,  3.55712782e+00,\n",
       "       -2.96611197e-02, -8.92746964e-01,  1.27510045e+00,  2.14389066e+00,\n",
       "       -1.97521036e+00, -7.72537120e-01,  1.26390042e-01, -3.67596681e-01,\n",
       "        1.07826611e+00, -1.51172635e+00, -1.88149122e+00, -7.89222903e-01,\n",
       "       -1.21392753e+00,  2.84803557e-01, -4.72329610e-01, -3.89407662e-01,\n",
       "        4.32088560e-01,  4.27655545e-01,  7.78045815e-01,  5.33703074e-02,\n",
       "       -1.72105816e+00,  2.99343991e+00,  5.52245201e-02,  1.27719613e-02,\n",
       "       -7.65445292e-01,  1.46757486e-01,  3.42792547e-02,  3.32982202e+00,\n",
       "        1.08801976e+00, -6.39249305e-01, -1.12090119e+00,  3.37389427e+00,\n",
       "        1.30546620e+00,  1.64246880e+00,  1.36963641e+00,  1.59851788e+00,\n",
       "        2.48136191e+00, -2.98062419e+00, -1.99828369e+00, -1.25991012e+00,\n",
       "        3.07849804e-01, -1.61109101e+00, -1.93029338e-01,  2.55896229e+00,\n",
       "       -5.74745598e-01, -1.50294782e-01,  3.04972112e+00, -6.70845552e-01,\n",
       "        2.36649180e+00, -2.03414266e-01,  4.12343166e-01, -4.64904902e-01,\n",
       "       -3.06866928e-01, -2.90644672e+00,  4.71211187e-01,  1.23348240e+00,\n",
       "        1.32473199e+00,  5.36966664e-01,  1.04923212e+00, -8.01083973e-02,\n",
       "        2.89582508e-01, -3.78969588e-01, -1.00910860e+00,  3.22093371e-02,\n",
       "        2.06141845e+00, -4.41688484e-01, -9.76092637e-01,  8.92955766e-02,\n",
       "        1.83560712e+00,  5.92190643e-01,  1.80433154e+00,  8.08218991e-01,\n",
       "       -1.17801893e+00, -3.67423625e+00,  1.21152467e+00, -2.51947917e+00,\n",
       "       -1.84822828e+00,  1.01106094e+00, -1.57173461e+00,  1.61666884e+00,\n",
       "        1.15389547e+00,  5.43035761e-01, -1.19377869e+00, -2.99473704e+00,\n",
       "        8.08725834e-01,  1.45104252e+00,  1.37282822e+00,  1.24388392e+00,\n",
       "       -6.07725768e-02, -1.77417842e+00,  1.79504501e+00, -3.98096503e-01,\n",
       "        2.37534408e+00, -2.21997596e+00, -1.34368984e+00,  4.30677045e-01,\n",
       "        2.08565262e+00,  2.60496898e+00, -8.44423361e-01,  1.37425355e+00,\n",
       "       -1.03949735e+00, -3.10123496e-01,  9.91478727e-01, -9.73261695e-02,\n",
       "       -1.58343715e-01,  3.88814228e-01, -1.31425517e+00, -6.89122369e-01,\n",
       "       -1.73895404e+00,  1.83660119e+00, -1.65387356e+00,  1.43712239e+00,\n",
       "       -9.31227318e-01,  9.01023904e-01,  3.20291881e-01,  1.33922686e+00,\n",
       "        1.67282995e+00, -3.66306925e+00, -2.39923093e+00,  2.25845498e+00,\n",
       "       -1.09365487e+00,  2.55218344e-01, -9.31113901e-01,  1.71790410e-01,\n",
       "       -9.63703526e-01,  5.90818451e-01, -1.64946500e+00, -2.15169687e+00,\n",
       "       -1.73241438e+00, -2.98216763e-02,  1.76308760e+00,  1.57699564e-01,\n",
       "       -4.46510948e-02,  1.03951316e+00,  1.19109707e+00,  1.61961359e+00,\n",
       "       -1.69049647e+00,  1.99456714e+00, -9.07932092e-01,  4.79351295e-01,\n",
       "        5.85235838e-01,  4.64687902e-01, -1.12834455e+00, -1.14906722e+00,\n",
       "       -1.93397857e+00,  2.03561363e+00,  2.47326509e+00, -3.58150823e-01,\n",
       "        1.48184098e+00, -1.33302271e+00,  2.06071522e+00, -4.83690333e-01,\n",
       "       -1.89253446e+00,  3.10689047e-03,  1.44131002e-01, -2.99074751e+00,\n",
       "        9.26271052e-01, -1.39308977e+00, -4.42488835e-01, -5.08700059e-01,\n",
       "        3.07964367e-01, -3.11289544e-01,  1.62298159e+00, -1.35882802e-02])"
      ]
     },
     "execution_count": 14,
     "metadata": {},
     "output_type": "execute_result"
    }
   ],
   "source": [
    "y"
   ]
  },
  {
   "cell_type": "code",
   "execution_count": 18,
   "id": "3c25dd80",
   "metadata": {},
   "outputs": [
    {
     "name": "stdout",
     "output_type": "stream",
     "text": [
      "값들의 출현 횟수 :  [28 37 69 50 60 59 45 55 38 42 35 34 35 27 24 25 27 21 23 23 17 20 10 10\n",
      " 17  8  7 12 12  7  3  8  4  5  6  3  4  2  4  1  1  3  2  5  3  8  2  5\n",
      "  3  1  2  3  3  2  2  3  2  0  1  2  1  0  0  3  1  0  0  0  1  3  0  1\n",
      "  0  2  0  1  1  0  0  0  0  0  0  0  2  2  0  1  1  0  0  0  1  1  2  0\n",
      "  0  0  0  0  0  0  1  0  0  0  0  0  1  0  0  0  1  0  0  0  0  0  0  0\n",
      "  1  0  0  0  0  1  0  0  0  0  0  0  0  0  0  0  0  0  0  0  1]\n"
     ]
    }
   ],
   "source": [
    "print(\"값들의 출현 횟수 : \", np.bincount(X[:, 0]))"
   ]
  },
  {
   "cell_type": "code",
   "execution_count": 19,
   "id": "a2f8e748",
   "metadata": {},
   "outputs": [
    {
     "data": {
      "text/plain": [
       "Text(0.5, 0, '값')"
      ]
     },
     "execution_count": 19,
     "metadata": {},
     "output_type": "execute_result"
    },
    {
     "data": {
      "image/png": "[encoded data removed]",
      "text/plain": [
       "<Figure size 432x288 with 1 Axes>"
      ]
     },
     "metadata": {
      "needs_background": "light"
     },
     "output_type": "display_data"
    }
   ],
   "source": [
    "plt.xlim(0, 160)\n",
    "plt.ylim(0, 70)\n",
    "bins = np.bincount(X[:, 0])\n",
    "plt.bar(range(len(bins)), bins, color='grey')\n",
    "plt.ylabel(\"출현 횟수\")\n",
    "plt.xlabel(\"값\")"
   ]
  },
  {
   "cell_type": "code",
   "execution_count": 20,
   "id": "f8d992b7",
   "metadata": {},
   "outputs": [
    {
     "data": {
      "text/plain": [
       "Text(0.5, 0, '값')"
      ]
     },
     "execution_count": 20,
     "metadata": {},
     "output_type": "execute_result"
    },
    {
     "data": {
      "image/png": "[encoded data removed]",
      "text/plain": [
       "<Figure size 864x720 with 2 Axes>"
      ]
     },
     "metadata": {
      "needs_background": "light"
     },
     "output_type": "display_data"
    }
   ],
   "source": [
    "plt.figure(figsize=(12, 10))\n",
    "\n",
    "plt.subplot(2,1,1)\n",
    "bins = np.bincount(X[:, 0])\n",
    "plt.bar(range(len(bins)), bins, color='grey')\n",
    "plt.ylabel(\"출현 횟수\")\n",
    "plt.xlabel(\"값\")\n",
    "\n",
    "plt.subplot(2,1,2)\n",
    "bins = np.bincount(X[:, 1])\n",
    "plt.bar(range(len(bins)), bins, color='grey')\n",
    "plt.ylabel(\"출현 횟수\")\n",
    "plt.xlabel(\"값\")"
   ]
  },
  {
   "cell_type": "code",
   "execution_count": 21,
   "id": "6a1309c2",
   "metadata": {},
   "outputs": [],
   "source": [
    "from sklearn.linear_model import Ridge\n",
    "from sklearn.model_selection import train_test_split"
   ]
  },
  {
   "cell_type": "code",
   "execution_count": 22,
   "id": "b904b760",
   "metadata": {},
   "outputs": [
    {
     "data": {
      "text/plain": [
       "0.6662752922915148"
      ]
     },
     "execution_count": 22,
     "metadata": {},
     "output_type": "execute_result"
    }
   ],
   "source": [
    "X_train, X_test, y_train, y_test = train_test_split(X, y, random_state=0)\n",
    "model = Ridge().fit(X_train, y_train)\n",
    "model.score(X_test, y_test)"
   ]
  },
  {
   "cell_type": "code",
   "execution_count": 28,
   "id": "be9fba64",
   "metadata": {},
   "outputs": [],
   "source": [
    "X_train_log = np.log1p(X_train)\n",
    "X_test_log = np.log1p(X_test)"
   ]
  },
  {
   "cell_type": "code",
   "execution_count": 25,
   "id": "55e8dedc",
   "metadata": {},
   "outputs": [
    {
     "data": {
      "text/plain": [
       "Text(0.5, 0, '값(log적용)')"
      ]
     },
     "execution_count": 25,
     "metadata": {},
     "output_type": "execute_result"
    },
    {
     "data": {
      "image/png": "[encoded data removed]",
      "text/plain": [
       "<Figure size 864x720 with 2 Axes>"
      ]
     },
     "metadata": {
      "needs_background": "light"
     },
     "output_type": "display_data"
    }
   ],
   "source": [
    "plt.figure(figsize=(12, 10))\n",
    "\n",
    "plt.subplot(2,2,1)\n",
    "bins = np.bincount(X[:, 0])\n",
    "plt.bar(range(len(bins)), bins, color='grey')\n",
    "plt.ylabel(\"출현 횟수\")\n",
    "plt.xlabel(\"값\")\n",
    "\n",
    "plt.subplot(2,2,2)\n",
    "plt.hist( X_train_log[:, 0], bins=25, color='orange')\n",
    "plt.ylabel(\"출현 횟수\")\n",
    "plt.xlabel(\"값(log적용)\")"
   ]
  },
  {
   "cell_type": "code",
   "execution_count": 26,
   "id": "54e05b11",
   "metadata": {},
   "outputs": [
    {
     "data": {
      "text/plain": [
       "Text(0.5, 0, '값')"
      ]
     },
     "execution_count": 26,
     "metadata": {},
     "output_type": "execute_result"
    },
    {
     "data": {
      "image/png": "[encoded data removed]",
      "text/plain": [
       "<Figure size 432x288 with 1 Axes>"
      ]
     },
     "metadata": {
      "needs_background": "light"
     },
     "output_type": "display_data"
    }
   ],
   "source": [
    "plt.hist(X_train_log[:, 0], bins=25, color=\"gray\")\n",
    "plt.ylabel(\"출현 횟수\")\n",
    "plt.xlabel(\"값\")"
   ]
  },
  {
   "cell_type": "code",
   "execution_count": 29,
   "id": "efe424a0",
   "metadata": {},
   "outputs": [
    {
     "data": {
      "text/plain": [
       "0.8546552883842318"
      ]
     },
     "execution_count": 29,
     "metadata": {},
     "output_type": "execute_result"
    }
   ],
   "source": [
    "model = Ridge().fit(X_train_log, y_train)\n",
    "model.score(X_test_log, y_test)"
   ]
  },
  {
   "cell_type": "code",
   "execution_count": null,
   "id": "54cc7d89",
   "metadata": {},
   "outputs": [],
   "source": []
  }
 ],
 "metadata": {
  "kernelspec": {
   "display_name": "Python 3",
   "language": "python",
   "name": "python3"
  },
  "language_info": {
   "codemirror_mode": {
    "name": "ipython",
    "version": 3
   },
   "file_extension": ".py",
   "mimetype": "text/x-python",
   "name": "python",
   "nbconvert_exporter": "python",
   "pygments_lexer": "ipython3",
   "version": "3.8.8"
  }
 },
 "nbformat": 4,
 "nbformat_minor": 5
}
